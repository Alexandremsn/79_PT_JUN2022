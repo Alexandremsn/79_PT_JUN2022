{
 "cells": [
  {
   "cell_type": "markdown",
   "metadata": {},
   "source": [
    "# APIs\n",
    "\n",
    "APIs são mecanismos que permitem que dois componentes de software se comuniquem usando um conjunto de definições e protocolos. Por exemplo, o sistema de software do instituto meteorológico contém dados meteorológicos diários. O aplicativo meteorológico em seu telefone “fala” com este sistema por meio de APIs e mostra atualizações meteorológicas diárias no telefone.\n",
    "\n",
    "API significa Application Programming Interface (Interface de Programação de Aplicação). No contexto de APIs, a palavra Aplicação refere-se a qualquer software com uma função distinta. A interface pode ser pensada como um contrato de serviço entre duas aplicações. Esse contrato define como as duas se comunicam usando solicitações e respostas. A documentação de suas respectivas APIs contém informações sobre como os desenvolvedores devem estruturar essas solicitações e respostas.\n",
    "\n",
    "![image.png](images/api.jpeg)\n",
    "\n",
    "`client`: O cliente\n",
    "\n",
    "`api`: O garçom\n",
    "\n",
    "`o serviço (banco de dados, web application, twitter, spotify)`: O pizzaiolo\n",
    "\n",
    "# Web APIs\n",
    "\n",
    "## Some Examples\n",
    "\n",
    "### API endpoints\n",
    "\n",
    "**NASA API**: http://api.open-notify.org/\n",
    "- http://api.open-notify.org/iss-now.json\n",
    "    - Documentation: http://open-notify.org/Open-Notify-API/ISS-Location-Now/\n",
    "\n",
    "**Meme API**\n",
    "\n",
    "- http://apimeme.com/?ref=apilist.fun\n",
    "- http://apimeme.com/meme?meme=Doge&top=Analista&bottom=de_Dados\n",
    "    \n",
    "\n",
    "**Public APIs**\n",
    "\n",
    "- https://github.com/public-apis/public-apis"
   ]
  },
  {
   "cell_type": "markdown",
   "metadata": {},
   "source": [
    "## Acessando APIs via Requests\n",
    "\n",
    "`Requests` é uma biblioteca Python que nos permite interagir com servidores [HTTP](https://en.wikipedia.org/wiki/Hypertext_Transfer_Protocol). Essa biblioteca pode ser utilizada para baixar páginas, arquivos e **interagir com APIs**.\n",
    "\n",
    "\n",
    "\n",
    "[Documentação - requests](https://requests.readthedocs.io)"
   ]
  },
  {
   "cell_type": "code",
   "execution_count": null,
   "metadata": {
    "scrolled": true
   },
   "outputs": [],
   "source": [
    "! pip3 install requests"
   ]
  },
  {
   "cell_type": "code",
   "execution_count": null,
   "metadata": {
    "ExecuteTime": {
     "end_time": "2022-01-18T22:45:18.436827Z",
     "start_time": "2022-01-18T22:45:18.432829Z"
    }
   },
   "outputs": [],
   "source": [
    "import requests, time"
   ]
  },
  {
   "cell_type": "markdown",
   "metadata": {},
   "source": [
    "### Utilizando `requests`\n",
    "\n",
    "Vamos começar acessando uma API simples que nos permite extrair, a cada 5s, a posição da [ISS](https://en.wikipedia.org/wiki/International_Space_Station).\n",
    "\n",
    "O primeiro passo é descobrir o `endpoint` desta API. O `endpoint` é o URL através do qual acessamos uma API!"
   ]
  },
  {
   "cell_type": "code",
   "execution_count": null,
   "metadata": {},
   "outputs": [],
   "source": [
    "endpoint = 'http://api.open-notify.org/iss-now.json'"
   ]
  },
  {
   "cell_type": "markdown",
   "metadata": {},
   "source": [
    "Com nosso URL em mãos, podemos utilizar a biblioteca `requests` para extrair a informação da API:"
   ]
  },
  {
   "cell_type": "code",
   "execution_count": null,
   "metadata": {
    "ExecuteTime": {
     "end_time": "2022-01-18T22:47:39.587516Z",
     "start_time": "2022-01-18T22:47:39.152345Z"
    }
   },
   "outputs": [],
   "source": [
    "response = requests.get(endpoint)"
   ]
  },
  {
   "cell_type": "markdown",
   "metadata": {},
   "source": [
    "O que é o objeto que guardamos na variável `response`?"
   ]
  },
  {
   "cell_type": "code",
   "execution_count": null,
   "metadata": {
    "ExecuteTime": {
     "end_time": "2022-01-18T22:47:44.233847Z",
     "start_time": "2022-01-18T22:47:44.222876Z"
    }
   },
   "outputs": [],
   "source": [
    "response"
   ]
  },
  {
   "attachments": {},
   "cell_type": "markdown",
   "metadata": {},
   "source": [
    "O objeto é do tipo `response` e ele contém o código HTTP associado ao nosso request:\n",
    "\n",
    "![image.png](images/http_status_codes.jpeg)\n",
    "\n",
    "Com este código podemos saber se a nossa comunicação com o servidor de certo ou não (e porque não deu certo).\n",
    "\n",
    "https://www.tutorialspoint.com/http/http_status_codes.htm\n",
    "\n",
    "Para extrair a informação que a API nos retornou (no caso de um sucesso), podemos utilizar o método `.json()`. "
   ]
  },
  {
   "cell_type": "code",
   "execution_count": null,
   "metadata": {},
   "outputs": [],
   "source": [
    "response.json()"
   ]
  },
  {
   "cell_type": "markdown",
   "metadata": {},
   "source": [
    "Como nosso *request* teve sucesso (status 200), o método `.json()` nos retorna o resultado como um dicionário ou uma lista:"
   ]
  },
  {
   "cell_type": "code",
   "execution_count": null,
   "metadata": {},
   "outputs": [],
   "source": [
    "resultado = response.json()\n",
    "type(resultado)"
   ]
  },
  {
   "cell_type": "markdown",
   "metadata": {},
   "source": [
    "#### Erros de HTTP\n",
    "\n",
    "Um problema comum ao construirmos scripts que acessam API é a tratativa de erros HTTP. Caso a API não retorne o que esperamos as etapas subsequentes de nosso programa podem falhar. As tratativas de erro HTTP são fundamentais em qualquer programa que tenha extraia informações (seja de uma API, seja via web-scrapping).\n",
    "\n",
    "Vamos simular um erro tentando acessar um endpoint inexistente:"
   ]
  },
  {
   "cell_type": "code",
   "execution_count": null,
   "metadata": {
    "ExecuteTime": {
     "end_time": "2022-01-18T22:53:22.301544Z",
     "start_time": "2022-01-18T22:53:21.886748Z"
    }
   },
   "outputs": [],
   "source": [
    "response = requests.get('http://api.open-notify.org/coisas_aleatória.json')\n",
    "response"
   ]
  },
  {
   "cell_type": "markdown",
   "metadata": {},
   "source": [
    "Através do objeto `Response` já vemos que o status da execução não é de sucesso: 404 indica um **Client Error**. Podemos utilizar o atributo `.status_code` deste objeto para extrair o código de status diretamente:"
   ]
  },
  {
   "cell_type": "code",
   "execution_count": null,
   "metadata": {
    "ExecuteTime": {
     "end_time": "2022-01-18T22:53:52.159080Z",
     "start_time": "2022-01-18T22:53:52.146108Z"
    }
   },
   "outputs": [],
   "source": [
    "response.status_code"
   ]
  },
  {
   "cell_type": "markdown",
   "metadata": {},
   "source": [
    "Poderíamos tratar os diferentes códigos de status através de condicionais. No entanto, como são muitos códigos diferentes e esta é uma tarefa muito comum, o objeto `Response` contém um método que realiza essa tratativa: `.raise_for_status()`"
   ]
  },
  {
   "cell_type": "code",
   "execution_count": null,
   "metadata": {
    "ExecuteTime": {
     "end_time": "2022-01-18T22:54:18.417927Z",
     "start_time": "2022-01-18T22:54:18.400975Z"
    }
   },
   "outputs": [],
   "source": [
    "response.raise_for_status()"
   ]
  },
  {
   "cell_type": "markdown",
   "metadata": {},
   "source": [
    "O método `.raise_for_status()` *levanta* um erro toda vez que um código que não seja sucesso é retornado. Sendo assim, podemos utilizar um `try:` e `except:` para tratar este `HTTPError`!"
   ]
  },
  {
   "cell_type": "code",
   "execution_count": null,
   "metadata": {},
   "outputs": [],
   "source": [
    "from requests import HTTPError\n",
    "\n",
    "try:\n",
    "    response = requests.get('http://api.open-notify.org/coisas_aleatória.json')\n",
    "    response.raise_for_status()\n",
    "    resultado = response.json()\n",
    "except HTTPError as e:\n",
    "    print(f'Falha na comunicação com o servidor:\\n {e}')\n",
    "    resultado = None\n",
    "\n",
    "print(resultado)"
   ]
  },
  {
   "cell_type": "markdown",
   "metadata": {},
   "source": [
    "Vamos comparar o resultado do bloco acima utilizando o *endpoint* real da API:"
   ]
  },
  {
   "cell_type": "code",
   "execution_count": null,
   "metadata": {
    "ExecuteTime": {
     "end_time": "2022-01-18T22:54:56.625471Z",
     "start_time": "2022-01-18T22:54:56.204568Z"
    }
   },
   "outputs": [],
   "source": [
    "try:\n",
    "    response = requests.get('http://api.open-notify.org/iss-now.json')\n",
    "    response.raise_for_status()\n",
    "    resultado = response.json()\n",
    "except HTTPError as e:\n",
    "    print(f'Falha na comunicação com o servidor:\\n {e}')\n",
    "    resultado = None\n",
    "\n",
    "print(resultado)"
   ]
  },
  {
   "cell_type": "markdown",
   "metadata": {},
   "source": [
    "## Utilizando APIs I\n",
    "\n",
    "Até agora vimos como podemos acessar, extrair informações e tratar erros de uma API através de métodos e funções fundamentais. Vamos utilizar este conhecimento para construir um `DataFrame` com as posições da ISS."
   ]
  },
  {
   "cell_type": "code",
   "execution_count": null,
   "metadata": {
    "ExecuteTime": {
     "end_time": "2022-01-18T23:01:12.034525Z",
     "start_time": "2022-01-18T23:01:10.999750Z"
    }
   },
   "outputs": [],
   "source": [
    "from datetime import datetime\n",
    "import pandas as pd\n",
    "\n",
    "response = requests.get('http://api.open-notify.org/iss-now.json')\n",
    "results = response.json()"
   ]
  },
  {
   "cell_type": "markdown",
   "metadata": {},
   "source": [
    "A primeira etapa de qualquer construção envolvendo uma ou mais APIs é a exploração do objeto retornado."
   ]
  },
  {
   "cell_type": "code",
   "execution_count": null,
   "metadata": {
    "ExecuteTime": {
     "end_time": "2022-01-18T23:01:27.875699Z",
     "start_time": "2022-01-18T23:01:27.861741Z"
    }
   },
   "outputs": [],
   "source": [
    "type(results)"
   ]
  },
  {
   "cell_type": "markdown",
   "metadata": {},
   "source": [
    "A API da ISS retorna um dicionário: vamos analisar como este dicionário está estruturado:"
   ]
  },
  {
   "cell_type": "code",
   "execution_count": null,
   "metadata": {},
   "outputs": [],
   "source": [
    "results.keys()"
   ]
  },
  {
   "cell_type": "markdown",
   "metadata": {},
   "source": [
    "Vamos investigar como as informações estão estruturadas dentro destas chaves:"
   ]
  },
  {
   "cell_type": "code",
   "execution_count": null,
   "metadata": {},
   "outputs": [],
   "source": [
    "for chave in results.keys():\n",
    "    print(f\"{chave}: {type(results[chave])}\")"
   ]
  },
  {
   "cell_type": "markdown",
   "metadata": {},
   "source": [
    "As chaves `message` e `timestamp` são tipos simples (`str` e `int` respectivamente). Já a chave `iss_position` é outro dicionário:"
   ]
  },
  {
   "cell_type": "code",
   "execution_count": null,
   "metadata": {},
   "outputs": [],
   "source": [
    "results['iss_position']"
   ]
  },
  {
   "cell_type": "markdown",
   "metadata": {},
   "source": [
    "O resultado desta API é muito simples - temos 3 chaves, sendo que 2 são de interesse para nós:\n",
    "\n",
    "1. `iss_position` contém duas chaves, `latitude` e `longitude`, contendo a posição da ISS;\n",
    "1. `timestamp` contém o **timestamp** associado a esta posição.\n",
    "\n",
    "Primeiro, vamos utilizar a função `fromtimestamp()` do módulo `datetime` para converter nosso `timestamp` em um objeto `DateTime`:"
   ]
  },
  {
   "cell_type": "code",
   "execution_count": null,
   "metadata": {
    "ExecuteTime": {
     "end_time": "2022-01-18T23:02:10.364614Z",
     "start_time": "2022-01-18T23:02:10.349655Z"
    }
   },
   "outputs": [],
   "source": [
    "data_hora = datetime.fromtimestamp(results['timestamp'])\n",
    "print(data_hora)"
   ]
  },
  {
   "cell_type": "markdown",
   "metadata": {},
   "source": [
    "Agora que vimos como transformar este resultado, podemos construir um loop para criar uma tabela com a posição da ISS a cada 10s, por 1 minuto:"
   ]
  },
  {
   "cell_type": "code",
   "execution_count": null,
   "metadata": {
    "ExecuteTime": {
     "end_time": "2022-01-18T23:07:00.945117Z",
     "start_time": "2022-01-18T23:05:58.291247Z"
    }
   },
   "outputs": [],
   "source": [
    "lat = []\n",
    "long = []\n",
    "data_hora = []\n",
    "\n",
    "for i in range(6):\n",
    "    response = requests.get('http://api.open-notify.org/iss-now.json')\n",
    "    results = response.json()\n",
    "\n",
    "    lat.append(float(results['iss_position']['latitude']))\n",
    "    long.append(float(results['iss_position']['longitude']))\n",
    "    data_hora.append(datetime.fromtimestamp(results['timestamp']))\n",
    "\n",
    "    time.sleep(10)"
   ]
  },
  {
   "cell_type": "markdown",
   "metadata": {},
   "source": [
    "Agora vamos construir nosso `DataFrame` a partir das listas que criamos em nosso loop:"
   ]
  },
  {
   "cell_type": "code",
   "execution_count": null,
   "metadata": {
    "ExecuteTime": {
     "end_time": "2022-01-18T23:08:16.379210Z",
     "start_time": "2022-01-18T23:08:16.363253Z"
    }
   },
   "outputs": [],
   "source": [
    "tb_iss = pd.DataFrame({'lat': lat, 'long':long, 'time':data_hora})"
   ]
  },
  {
   "cell_type": "code",
   "execution_count": null,
   "metadata": {
    "ExecuteTime": {
     "end_time": "2022-01-18T23:08:17.997854Z",
     "start_time": "2022-01-18T23:08:17.973916Z"
    }
   },
   "outputs": [],
   "source": [
    "tb_iss"
   ]
  },
  {
   "cell_type": "code",
   "execution_count": null,
   "metadata": {},
   "outputs": [],
   "source": [
    "tb_iss.info()"
   ]
  },
  {
   "cell_type": "markdown",
   "metadata": {
    "heading_collapsed": true
   },
   "source": [
    "## Utilizando APIs II\n",
    "\n",
    "A API da ISS é extremamente rudimentar: ela não possui nem autenticação nem parâmetros, simplesmente retorna a posição atual da ISS. Muitas APIs são mais complexas do que isso, necessitando de autenticação e possibilitando a utilização de parâmetros:\n",
    "\n",
    "1. **Autenticação**: muitas APIs precisam que o seu programa se autentique, ou seja, se identifique. Muitas vezes isso é feito através do site que disponibiliza a API e requer a criação de um usuário;\n",
    "1. **Parâmetros**: parâmetros são informações que passamos para a API utilizadas para determinar que informação será retornada.\n",
    "\n",
    "No próximo exemplo utilizaremos a [WeatherAPI](https://www.weatherapi.com). Esta API retorna informações climáticas para um dado local. Ela é autenticada (através de um *token*) e necessita de uma parametrização (a latitude e longitude do local para o qual queremos extrair as informações).\n",
    "\n",
    "Primeiro vamos criar especificar todos os parâmetros necessários para a consulta à esta API:"
   ]
  },
  {
   "cell_type": "code",
   "execution_count": null,
   "metadata": {
    "ExecuteTime": {
     "end_time": "2022-01-18T23:28:25.283706Z",
     "start_time": "2022-01-18T23:28:25.182970Z"
    },
    "hidden": true
   },
   "outputs": [],
   "source": [
    "token = 'bfef1b47e3b8462199b191725221801'\n",
    "endpoint = 'http://api.weatherapi.com/v1/current.json'\n",
    "\n",
    "header = {'key' : token}\n",
    "query = {'q' : '-21.996160,-47.426420'}"
   ]
  },
  {
   "cell_type": "markdown",
   "metadata": {
    "hidden": true
   },
   "source": [
    "Utilizamos dois dicionários para especificar tanto a autenticação quanto a parametrização de nosso request:\n",
    "\n",
    "1. `header`: é um dicionário que contém apenas uma chave, `key`, na qual guardamos nosso token identificador;\n",
    "1. `query`: é um dicionário que contém apenas uma chave, `q`, na qual guardamos um string de latitude e longitude.\n",
    "\n",
    "O nome das chaves foi determinado lendo a documentação da API: https://www.weatherapi.com/docs/.\n",
    "\n",
    "Agora vamos utilizar nossos dicionários e a função `request()` para extrair as informações metereológicas da latitude **-21,996160** e longitude **-47,426420**"
   ]
  },
  {
   "cell_type": "code",
   "execution_count": null,
   "metadata": {
    "hidden": true
   },
   "outputs": [],
   "source": [
    "response = requests.request('GET', endpoint,\n",
    "                            headers=header, \n",
    "                            params=query)\n",
    "results = response.json()"
   ]
  },
  {
   "cell_type": "markdown",
   "metadata": {
    "hidden": true
   },
   "source": [
    "Utilizamos o argumento `headers =` para passar ao `request()` nossos parâmetros de autenticação, e o argumento `params =` para passar os parâmetros de busca."
   ]
  },
  {
   "cell_type": "code",
   "execution_count": null,
   "metadata": {
    "ExecuteTime": {
     "end_time": "2022-01-18T23:28:27.222423Z",
     "start_time": "2022-01-18T23:28:27.208432Z"
    },
    "hidden": true
   },
   "outputs": [],
   "source": [
    "results"
   ]
  },
  {
   "cell_type": "markdown",
   "metadata": {
    "hidden": true
   },
   "source": [
    "Esta API é muito mais complexa que a API da ISS: não só pela autenticação e parametrização, mas também pela complexidade dos resultados retornados.\n",
    "\n",
    "Primeiro, vamos construir uma aplicação simples cujo objetivo é guardar apenas as informações temperatura, humidade, pressão do ar e velocidade do vento. Para isso precisamos investigar o resultado retornado e determinar quais chaves iremos guardar:"
   ]
  },
  {
   "cell_type": "code",
   "execution_count": null,
   "metadata": {
    "hidden": true
   },
   "outputs": [],
   "source": [
    "# EXERCICIO\n",
    "# Extrair as informações de temperatura, humidade, pressão do ar e velocidade do vento \n",
    "# para a lista de latitudes e longitudes abaixo.\n",
    "lista_latlong = [\n",
    "    '-23.57,-46.69', \n",
    "    '-1.34,-48.60', \n",
    "    '-7.99,-34.87', \n",
    "    '6.51,3.39',\n",
    "    '33.69,-84.44', \n",
    "    '69.00, 33.13'\n",
    "]"
   ]
  },
  {
   "cell_type": "markdown",
   "metadata": {
    "hidden": true
   },
   "source": [
    "### Utilizando `json_normalize()`\n",
    "\n",
    "No exercicio acima, guardamos apenas um sub-conjunto das informações extraídas. No entanto, muitas vezes é mais prático guardar todas as informações para depois filtra-la.\n",
    "\n",
    "Para simplificar este processo podemos utilizar a função `json_normalize()` da biblioteca Pandas."
   ]
  },
  {
   "cell_type": "code",
   "execution_count": null,
   "metadata": {
    "ExecuteTime": {
     "end_time": "2022-01-18T19:36:43.542242Z",
     "start_time": "2022-01-18T19:36:43.213092Z"
    },
    "hidden": true,
    "scrolled": true
   },
   "outputs": [],
   "source": [
    "# Verificar variável response.json()\n",
    "token = 'bfef1b47e3b8462199b191725221801'\n",
    "\n",
    "endpoint = 'http://api.weatherapi.com/v1/current.json'\n",
    "header = {'key' : token}\n",
    "query = {'q' : '-21.99,-47.42'}\n",
    "\n",
    "\n",
    "response = requests.request('GET', endpoint, headers=header, params=query)\n",
    "results = response.json()\n",
    "print(results)"
   ]
  },
  {
   "cell_type": "markdown",
   "metadata": {
    "hidden": true
   },
   "source": [
    "Primeiro vamos construir um loop para percorrer uma lista de latitudes e longitudes e armazenar os dicionários de resultados em uma lista:"
   ]
  },
  {
   "cell_type": "code",
   "execution_count": null,
   "metadata": {
    "ExecuteTime": {
     "end_time": "2022-01-18T23:35:30.645338Z",
     "start_time": "2022-01-18T23:35:30.628384Z"
    },
    "hidden": true
   },
   "outputs": [],
   "source": [
    "lista_latlong = [\n",
    "    '-23.57,-46.69', \n",
    "    '-1.34,-48.60', \n",
    "    '-7.99,-34.87', \n",
    "    '6.51,3.39',\n",
    "    '33.69,-84.44', \n",
    "    '69.00, 33.13'\n",
    "]"
   ]
  },
  {
   "cell_type": "code",
   "execution_count": null,
   "metadata": {
    "ExecuteTime": {
     "end_time": "2022-01-18T23:35:39.757620Z",
     "start_time": "2022-01-18T23:35:37.874455Z"
    },
    "hidden": true
   },
   "outputs": [],
   "source": [
    "token = 'bfef1b47e3b8462199b191725221801'\n",
    "endpoint = 'http://api.weatherapi.com/v1/current.json'\n",
    "header = {'key' : token}\n",
    "lista_resultados = []\n",
    "for latlong in lista_latlong:\n",
    "    query = {'q' : latlong}\n",
    "    response = requests.request('GET', endpoint, headers=header, params=query)\n",
    "    results = response.json()\n",
    "    lista_resultados.append(results)"
   ]
  },
  {
   "cell_type": "markdown",
   "metadata": {
    "hidden": true
   },
   "source": [
    "A variável `lista_resultados` é uma `list` de `dicts`: cada elemento desta lista contém as informações de uma localização específica em um dicionário.\n",
    "\n",
    "Agora, vamos utilizar a função `json_normalize()` da biblioteca `Pandas` para transformar esta lista em um `DataFrame`, onde cada linha será correspondente à cada elemento da lista:"
   ]
  },
  {
   "cell_type": "code",
   "execution_count": null,
   "metadata": {
    "ExecuteTime": {
     "end_time": "2022-01-18T23:43:31.249978Z",
     "start_time": "2022-01-18T23:43:31.237013Z"
    },
    "hidden": true
   },
   "outputs": [],
   "source": [
    "tb_weather = pd.json_normalize(lista_resultados)\n",
    "tb_weather\n"
   ]
  },
  {
   "cell_type": "markdown",
   "metadata": {
    "hidden": true
   },
   "source": [
    "A função transformou os dicionários hierarquicos em colunas individuais: para evitar a colisão de nomes de colunas, utilizou-se a notação de `.`: por exemplo, o sub-dicionário `location`, que contém campos relativos à localização, foi armazenado nas colunas `location.name`, `location.region`, etc..."
   ]
  },
  {
   "cell_type": "code",
   "execution_count": null,
   "metadata": {
    "ExecuteTime": {
     "end_time": "2022-01-18T23:43:59.578999Z",
     "start_time": "2022-01-18T23:43:59.563041Z"
    },
    "hidden": true
   },
   "outputs": [],
   "source": [
    "tb_weather.columns"
   ]
  },
  {
   "cell_type": "code",
   "execution_count": null,
   "metadata": {
    "ExecuteTime": {
     "end_time": "2022-01-18T23:44:02.513231Z",
     "start_time": "2022-01-18T23:44:02.421477Z"
    },
    "hidden": true
   },
   "outputs": [],
   "source": [
    "tb_weather.describe()"
   ]
  },
  {
   "cell_type": "markdown",
   "metadata": {},
   "source": [
    "# Encapsulando APIs \n",
    "\n",
    "Muitas vezes as funções de uma API são encapsuladas em um **wrapper**: uma classe que contém todo o código necessário para autenticar e parametrizar queries em uma dada API. Vamos construir um **wrapper** para a nossa tarefa acima."
   ]
  },
  {
   "cell_type": "code",
   "execution_count": null,
   "metadata": {},
   "outputs": [],
   "source": [
    "class WeatherAPI:\n",
    "    '''\n",
    "    Wrapper para a API https://www.weatherapi.com/docs/\n",
    "    '''\n",
    "    def __init__(self, token):\n",
    "        '''\n",
    "        Inicializa o wrapper.\n",
    "        token Str: Token de identificação do usuário da API\n",
    "        '''\n",
    "        self.header = {'key' : token}\n",
    "\n",
    "    def query_latlong(self, lat, long):\n",
    "        '''\n",
    "        Busca dados meterológicos atuais para uma localização específica\n",
    "        lat Float: latitude da localização\n",
    "        long Float: longitude da localização\n",
    "        '''\n",
    "        query = {'q' : f\"{lat:.4f},{long:.4f}\"}\n",
    "        try:\n",
    "            response = requests.request('GET', endpoint, \n",
    "                                        headers=self.header, \n",
    "                                        params=query)\n",
    "            response.raise_for_status()\n",
    "            return response.json()\n",
    "        except HTTPError as e:\n",
    "            print(e)\n",
    "            return None\n",
    "    "
   ]
  },
  {
   "cell_type": "code",
   "execution_count": null,
   "metadata": {},
   "outputs": [],
   "source": [
    "minha_api = WeatherAPI('bfef1b47e3b8462199b191725221801')\n",
    "minha_api.query_latlong(-15, -47)"
   ]
  }
 ],
 "metadata": {
  "hide_input": false,
  "kernelspec": {
   "display_name": "Python 3 (ipykernel)",
   "language": "python",
   "name": "python3"
  },
  "language_info": {
   "codemirror_mode": {
    "name": "ipython",
    "version": 3
   },
   "file_extension": ".py",
   "mimetype": "text/x-python",
   "name": "python",
   "nbconvert_exporter": "python",
   "pygments_lexer": "ipython3",
   "version": "3.9.11"
  },
  "toc": {
   "base_numbering": 1,
   "nav_menu": {},
   "number_sections": true,
   "sideBar": true,
   "skip_h1_title": false,
   "title_cell": "Table of Contents",
   "title_sidebar": "Contents",
   "toc_cell": false,
   "toc_position": {},
   "toc_section_display": true,
   "toc_window_display": false
  },
  "varInspector": {
   "cols": {
    "lenName": 16,
    "lenType": 16,
    "lenVar": 40
   },
   "kernels_config": {
    "python": {
     "delete_cmd_postfix": "",
     "delete_cmd_prefix": "del ",
     "library": "var_list.py",
     "varRefreshCmd": "print(var_dic_list())"
    },
    "r": {
     "delete_cmd_postfix": ") ",
     "delete_cmd_prefix": "rm(",
     "library": "var_list.r",
     "varRefreshCmd": "cat(var_dic_list()) "
    }
   },
   "types_to_exclude": [
    "module",
    "function",
    "builtin_function_or_method",
    "instance",
    "_Feature"
   ],
   "window_display": false
  },
  "vscode": {
   "interpreter": {
    "hash": "014f4a4a5af8f0104b12c029e500f4146d6d785e8cf714d2a35b7a9514230cd3"
   }
  }
 },
 "nbformat": 4,
 "nbformat_minor": 4
}
