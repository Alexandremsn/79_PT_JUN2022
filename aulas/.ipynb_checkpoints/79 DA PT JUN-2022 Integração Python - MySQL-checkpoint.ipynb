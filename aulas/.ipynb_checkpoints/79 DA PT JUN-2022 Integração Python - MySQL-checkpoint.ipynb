{
 "cells": [
  {
   "cell_type": "markdown",
   "metadata": {},
   "source": [
    "# Integração Python-SQL\n",
    "\n",
    "Até agora vimos como construir *queries* dentro de um ambiente SQL (através do cliente *DBeaver*). Embora a utilização de um cliente seja fundamental para explorar o banco de dados e construir *queries* de forma mais rápida, ele não contém ferramentas analíticas (tabelas, funções matemáticas complexas, gráficos, modelos, etc).\n",
    "\n",
    "Para acessar funções analíticas podemos utilizar outras ferramentas como **clientes** do nosso banco de dados: desde o Excel até Python e Tableau. Na aula de hoje veremos como conectar o Python ao nosso servidor MySQL e extrair dados para análise.\n",
    "\n",
    "Vamos utilizar a biblioteca **pymysql** para realizar essa conexão. Além disso utilizaremos a biblioteca **sqlalchemy** para executar queries em nosso banco.\n",
    "\n",
    "## PyMySQL + SQLAlchemy"
   ]
  },
  {
   "cell_type": "code",
   "execution_count": null,
   "metadata": {},
   "outputs": [],
   "source": [
    "!pip install pymysql"
   ]
  },
  {
   "cell_type": "code",
   "execution_count": null,
   "metadata": {},
   "outputs": [],
   "source": [
    "from sqlalchemy import create_engine"
   ]
  },
  {
   "cell_type": "markdown",
   "metadata": {},
   "source": [
    "Primeiro precisamos especificar os **parâmetros de conexão** ao nosso banco de dados:"
   ]
  },
  {
   "cell_type": "code",
   "execution_count": null,
   "metadata": {},
   "outputs": [],
   "source": [
    "user = \"root\"\n",
    "password = \"swpmlu23-\"\n",
    "url_banco = \"localhost\"\n",
    "nome_db = \"bank\"\n",
    "conn_str = f\"mysql+pymysql://{user}:{password}@{url_banco}/{nome_db}\"\n",
    "print(conn_str)"
   ]
  },
  {
   "cell_type": "markdown",
   "metadata": {},
   "source": [
    "Agora vamos utilizar o string de conexão `conn_str` para criar um objeto `engine`:"
   ]
  },
  {
   "cell_type": "code",
   "execution_count": null,
   "metadata": {},
   "outputs": [],
   "source": [
    "engine = create_engine(conn_str)\n",
    "print(engine)"
   ]
  },
  {
   "cell_type": "markdown",
   "metadata": {},
   "source": [
    "Para executar um query basta utilizarmos o método `.execute()` de um `Engine`:"
   ]
  },
  {
   "cell_type": "code",
   "execution_count": null,
   "metadata": {},
   "outputs": [],
   "source": [
    "results = engine.execute(\"SELECT * FROM account\")\n",
    "print(results)"
   ]
  },
  {
   "cell_type": "markdown",
   "metadata": {},
   "source": [
    "O resultado do método é um **cursor**: ele ainda não contém os resultados de nosso query. Para extrair-los utilizaremos o método `.fetchall()`:"
   ]
  },
  {
   "cell_type": "code",
   "execution_count": null,
   "metadata": {},
   "outputs": [],
   "source": [
    "dados = results.fetchall()\n",
    "dados"
   ]
  },
  {
   "cell_type": "markdown",
   "metadata": {},
   "source": [
    "## Utilizando Pandas\n",
    "\n",
    "O resultado do método `.fetchall()` é uma lista. Embora listas sejam facilmente transformadas em `DataFrames`, podemos economizar esforços utilizando a função `read_sql_query()` da biblioteca Pandas."
   ]
  },
  {
   "cell_type": "code",
   "execution_count": null,
   "metadata": {},
   "outputs": [],
   "source": [
    "import pandas as pd"
   ]
  },
  {
   "cell_type": "markdown",
   "metadata": {},
   "source": [
    "Para utilizarmos está função precisaremos do nosso `Engine`, criado através da **SQLAlchemy** na primeira parte da aula."
   ]
  },
  {
   "cell_type": "code",
   "execution_count": null,
   "metadata": {},
   "outputs": [],
   "source": [
    "tb_account = pd.read_sql_query(\"SELECT * FROM account\", engine)\n",
    "tb_account.head()"
   ]
  },
  {
   "cell_type": "markdown",
   "metadata": {},
   "source": [
    "Os queries que vimos acima são *one-liners*: simples o suficiente para serem escritos em uma linha de código. Conforme a complexidade de nossos queries aumenta, devemos utilizar *strings multi-line* ou arquivos `.sql` para guardar nossos queries:"
   ]
  },
  {
   "cell_type": "code",
   "execution_count": null,
   "metadata": {},
   "outputs": [],
   "source": [
    "query_loan = '''\n",
    "SELECT \n",
    "\t*\n",
    "FROM \n",
    "\tbank.district d JOIN\n",
    "\t(\n",
    "\t\tSELECT\n",
    "\t\t\tc.district_id,\n",
    "\t\t\tAVG(\n",
    "\t\t\t\tCASE \n",
    "\t\t\t\t\tWHEN l.status = 'B' OR l.status = 'D' THEN 1\n",
    "\t\t\t\t\tELSE 0\n",
    "\t\t\t\tEND\n",
    "\t\t\t) AS TX_DEVEDORES,\n",
    "\t\t\tCOUNT(*) AS NUM_EMPRESTIMOS \n",
    "\t\tFROM \n",
    "\t\t\tbank.client c JOIN \n",
    "\t\t\tbank.disp d ON (c.client_id = d.client_id) JOIN \n",
    "\t\t\tbank.account a ON (d.account_id = a.account_id) JOIN\n",
    "\t\t\tbank.loan l ON (a.account_id = l.account_id) JOIN \n",
    "\t\t\tbank.district d2 ON (c.district_id = d2.A1)\n",
    "\t\tGROUP BY \n",
    "\t\t\tc.district_id \n",
    "\t) AS TX_EMP_DISTRITO ON (TX_EMP_DISTRITO.district_id = d.a1)\n",
    "'''\n",
    "tb_district_loan = pd.read_sql_query(query_loan, engine)\n",
    "tb_district_loan.head()"
   ]
  },
  {
   "cell_type": "markdown",
   "metadata": {},
   "source": [
    "Outra forma de estruturar nossos queries é salvando-os em arquivos externos `.sql` - dessa forma mantemos separados Python e SQL de uma forma simples:"
   ]
  },
  {
   "cell_type": "code",
   "execution_count": null,
   "metadata": {},
   "outputs": [],
   "source": [
    "fd = open('queries/QUERY_DISTRICT_LOAN.sql', 'r')\n",
    "sqlFile = fd.read()\n",
    "fd.close()\n",
    "print(sqlFile)"
   ]
  },
  {
   "cell_type": "code",
   "execution_count": null,
   "metadata": {},
   "outputs": [],
   "source": [
    "tb_district_loan = pd.read_sql_query(sqlFile, engine)\n",
    "tb_district_loan.head()"
   ]
  },
  {
   "cell_type": "markdown",
   "metadata": {},
   "source": [
    "## Explorando o estudo de caso\n",
    "\n",
    "O estudo de caso que utilizamos ao longo das últimas semanas tem um objetivo claro: encontrar padrões entre bons e maus clientes de um banco. Vamos utilizar o que aprendemos até agora para explorar mais essa questão.\n",
    "\n",
    "### Visão Geográfica\n",
    "\n",
    "Podemos analisar a taxa histórica de não pagamentos por distrito para buscar padrões demográficos:"
   ]
  },
  {
   "cell_type": "code",
   "execution_count": null,
   "metadata": {},
   "outputs": [],
   "source": []
  },
  {
   "cell_type": "markdown",
   "metadata": {},
   "source": [
    "### Histórico de transações\n",
    "\n",
    "Além de uma visão geográfica, podemos analisar a performance de diferentes empréstimos de acordo com o histórico de cada cliente."
   ]
  },
  {
   "cell_type": "code",
   "execution_count": null,
   "metadata": {},
   "outputs": [],
   "source": []
  }
 ],
 "metadata": {
  "kernelspec": {
   "display_name": "Python 3 (ipykernel)",
   "language": "python",
   "name": "python3"
  },
  "language_info": {
   "codemirror_mode": {
    "name": "ipython",
    "version": 3
   },
   "file_extension": ".py",
   "mimetype": "text/x-python",
   "name": "python",
   "nbconvert_exporter": "python",
   "pygments_lexer": "ipython3",
   "version": "3.9.11"
  },
  "toc": {
   "base_numbering": 1,
   "nav_menu": {},
   "number_sections": true,
   "sideBar": true,
   "skip_h1_title": false,
   "title_cell": "Table of Contents",
   "title_sidebar": "Contents",
   "toc_cell": false,
   "toc_position": {},
   "toc_section_display": true,
   "toc_window_display": false
  },
  "vscode": {
   "interpreter": {
    "hash": "014f4a4a5af8f0104b12c029e500f4146d6d785e8cf714d2a35b7a9514230cd3"
   }
  }
 },
 "nbformat": 4,
 "nbformat_minor": 2
}
