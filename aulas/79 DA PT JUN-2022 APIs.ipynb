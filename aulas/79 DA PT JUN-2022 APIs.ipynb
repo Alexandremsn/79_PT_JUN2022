{
 "cells": [
  {
   "cell_type": "markdown",
   "metadata": {},
   "source": [
    "# APIs\n",
    "\n",
    "APIs são mecanismos que permitem que dois componentes de software se comuniquem usando um conjunto de definições e protocolos. Por exemplo, o sistema de software do instituto meteorológico contém dados meteorológicos diários. O aplicativo meteorológico em seu telefone “fala” com este sistema por meio de APIs e mostra atualizações meteorológicas diárias no telefone.\n",
    "\n",
    "API significa Application Programming Interface (Interface de Programação de Aplicação). No contexto de APIs, a palavra Aplicação refere-se a qualquer software com uma função distinta. A interface pode ser pensada como um contrato de serviço entre duas aplicações. Esse contrato define como as duas se comunicam usando solicitações e respostas. A documentação de suas respectivas APIs contém informações sobre como os desenvolvedores devem estruturar essas solicitações e respostas.\n",
    "\n",
    "![image.png](images/api.jpeg)\n",
    "\n",
    "`client`: O cliente\n",
    "\n",
    "`api`: O garçom\n",
    "\n",
    "`o serviço (banco de dados, web application, twitter, spotify)`: O pizzaiolo\n",
    "\n",
    "# Web APIs\n",
    "\n",
    "## Alguns Exemplos\n",
    "\n",
    "### API endpoints\n",
    "\n",
    "**NASA API**: http://api.open-notify.org/\n",
    "- http://api.open-notify.org/iss-now.json\n",
    "    - Documentation: http://open-notify.org/Open-Notify-API/ISS-Location-Now/\n",
    "\n",
    "**Meme API**\n",
    "\n",
    "- http://apimeme.com/?ref=apilist.fun\n",
    "- http://apimeme.com/meme?meme=Doge&top=Analista&bottom=de_Dados\n",
    "    \n",
    "\n",
    "**Public APIs**\n",
    "\n",
    "- https://github.com/public-apis/public-apis"
   ]
  },
  {
   "cell_type": "markdown",
   "metadata": {},
   "source": [
    "## Acessando APIs via Requests\n",
    "\n",
    "`Requests` é uma biblioteca Python que nos permite interagir com servidores [HTTP](https://en.wikipedia.org/wiki/Hypertext_Transfer_Protocol). Essa biblioteca pode ser utilizada para baixar páginas, arquivos e **interagir com APIs**.\n",
    "\n",
    "\n",
    "\n",
    "[Documentação - requests](https://requests.readthedocs.io)"
   ]
  },
  {
   "cell_type": "code",
   "execution_count": null,
   "metadata": {
    "scrolled": true
   },
   "outputs": [],
   "source": [
    "!pip3 install requests"
   ]
  },
  {
   "cell_type": "code",
   "execution_count": 1,
   "metadata": {
    "ExecuteTime": {
     "end_time": "2022-01-18T22:45:18.436827Z",
     "start_time": "2022-01-18T22:45:18.432829Z"
    }
   },
   "outputs": [],
   "source": [
    "import requests, time"
   ]
  },
  {
   "cell_type": "markdown",
   "metadata": {},
   "source": [
    "### Utilizando `requests`\n",
    "\n",
    "Vamos começar acessando uma API simples que nos permite extrair, a cada 5s, a posição da [ISS](https://en.wikipedia.org/wiki/International_Space_Station).\n",
    "\n",
    "O primeiro passo é descobrir o `endpoint` desta API. O `endpoint` é o URL através do qual acessamos uma API!"
   ]
  },
  {
   "cell_type": "code",
   "execution_count": 2,
   "metadata": {},
   "outputs": [],
   "source": [
    "endpoint = 'http://api.open-notify.org/iss-now.json'"
   ]
  },
  {
   "cell_type": "markdown",
   "metadata": {},
   "source": [
    "Com nosso URL em mãos, podemos utilizar a biblioteca `requests` para extrair a informação da API:"
   ]
  },
  {
   "cell_type": "code",
   "execution_count": 3,
   "metadata": {
    "ExecuteTime": {
     "end_time": "2022-01-18T22:47:39.587516Z",
     "start_time": "2022-01-18T22:47:39.152345Z"
    }
   },
   "outputs": [],
   "source": [
    "response = requests.get(endpoint)"
   ]
  },
  {
   "cell_type": "markdown",
   "metadata": {},
   "source": [
    "O que é o objeto que guardamos na variável `response`?"
   ]
  },
  {
   "cell_type": "code",
   "execution_count": 4,
   "metadata": {
    "ExecuteTime": {
     "end_time": "2022-01-18T22:47:44.233847Z",
     "start_time": "2022-01-18T22:47:44.222876Z"
    }
   },
   "outputs": [
    {
     "data": {
      "text/plain": [
       "<Response [200]>"
      ]
     },
     "execution_count": 4,
     "metadata": {},
     "output_type": "execute_result"
    }
   ],
   "source": [
    "response"
   ]
  },
  {
   "attachments": {},
   "cell_type": "markdown",
   "metadata": {},
   "source": [
    "O objeto é do tipo `response` e ele contém o código HTTP associado ao nosso request:\n",
    "\n",
    "![image.png](images/http_status_codes.jpeg)\n",
    "\n",
    "Com este código podemos saber se a nossa comunicação com o servidor de certo ou não (e porque não deu certo).\n",
    "\n",
    "https://www.tutorialspoint.com/http/http_status_codes.htm\n",
    "\n",
    "Para extrair a informação que a API nos retornou (no caso de um sucesso), podemos utilizar o método `.json()`. "
   ]
  },
  {
   "cell_type": "code",
   "execution_count": 5,
   "metadata": {},
   "outputs": [
    {
     "data": {
      "text/plain": [
       "{'message': 'success',\n",
       " 'timestamp': 1660689925,\n",
       " 'iss_position': {'latitude': '6.2442', 'longitude': '-96.0601'}}"
      ]
     },
     "execution_count": 5,
     "metadata": {},
     "output_type": "execute_result"
    }
   ],
   "source": [
    "response.json()"
   ]
  },
  {
   "cell_type": "markdown",
   "metadata": {},
   "source": [
    "Como nosso *request* teve sucesso (status 200), o método `.json()` nos retorna o resultado como um dicionário ou uma lista:"
   ]
  },
  {
   "cell_type": "code",
   "execution_count": 6,
   "metadata": {},
   "outputs": [
    {
     "data": {
      "text/plain": [
       "dict"
      ]
     },
     "execution_count": 6,
     "metadata": {},
     "output_type": "execute_result"
    }
   ],
   "source": [
    "resultado = response.json()\n",
    "type(resultado)"
   ]
  },
  {
   "cell_type": "markdown",
   "metadata": {},
   "source": [
    "#### Erros de HTTP\n",
    "\n",
    "Um problema comum ao construirmos scripts que acessam API é a tratativa de erros HTTP. Caso a API não retorne o que esperamos as etapas subsequentes de nosso programa podem falhar. As tratativas de erro HTTP são fundamentais em qualquer programa que tenha extraia informações (seja de uma API, seja via web-scrapping).\n",
    "\n",
    "Vamos simular um erro tentando acessar um endpoint inexistente:"
   ]
  },
  {
   "cell_type": "code",
   "execution_count": 7,
   "metadata": {
    "ExecuteTime": {
     "end_time": "2022-01-18T22:53:22.301544Z",
     "start_time": "2022-01-18T22:53:21.886748Z"
    }
   },
   "outputs": [
    {
     "data": {
      "text/plain": [
       "<Response [404]>"
      ]
     },
     "execution_count": 7,
     "metadata": {},
     "output_type": "execute_result"
    }
   ],
   "source": [
    "response = requests.get('http://api.open-notify.org/coisas_aleatória.json')\n",
    "response"
   ]
  },
  {
   "cell_type": "markdown",
   "metadata": {},
   "source": [
    "Através do objeto `Response` já vemos que o status da execução não é de sucesso: 404 indica um **Client Error**. Podemos utilizar o atributo `.status_code` deste objeto para extrair o código de status diretamente:"
   ]
  },
  {
   "cell_type": "code",
   "execution_count": 8,
   "metadata": {
    "ExecuteTime": {
     "end_time": "2022-01-18T22:53:52.159080Z",
     "start_time": "2022-01-18T22:53:52.146108Z"
    }
   },
   "outputs": [
    {
     "data": {
      "text/plain": [
       "404"
      ]
     },
     "execution_count": 8,
     "metadata": {},
     "output_type": "execute_result"
    }
   ],
   "source": [
    "response.status_code"
   ]
  },
  {
   "cell_type": "markdown",
   "metadata": {},
   "source": [
    "Poderíamos tratar os diferentes códigos de status através de condicionais. No entanto, como são muitos códigos diferentes e esta é uma tarefa muito comum, o objeto `Response` contém um método que realiza essa tratativa: `.raise_for_status()`"
   ]
  },
  {
   "cell_type": "code",
   "execution_count": 9,
   "metadata": {
    "ExecuteTime": {
     "end_time": "2022-01-18T22:54:18.417927Z",
     "start_time": "2022-01-18T22:54:18.400975Z"
    }
   },
   "outputs": [
    {
     "ename": "HTTPError",
     "evalue": "404 Client Error: Not Found for url: http://api.open-notify.org/coisas_aleat%C3%B3ria.json",
     "output_type": "error",
     "traceback": [
      "\u001b[0;31m---------------------------------------------------------------------------\u001b[0m",
      "\u001b[0;31mHTTPError\u001b[0m                                 Traceback (most recent call last)",
      "Input \u001b[0;32mIn [9]\u001b[0m, in \u001b[0;36m<cell line: 1>\u001b[0;34m()\u001b[0m\n\u001b[0;32m----> 1\u001b[0m \u001b[43mresponse\u001b[49m\u001b[38;5;241;43m.\u001b[39;49m\u001b[43mraise_for_status\u001b[49m\u001b[43m(\u001b[49m\u001b[43m)\u001b[49m\n",
      "File \u001b[0;32m~/opt/anaconda3/lib/python3.9/site-packages/requests/models.py:960\u001b[0m, in \u001b[0;36mResponse.raise_for_status\u001b[0;34m(self)\u001b[0m\n\u001b[1;32m    957\u001b[0m     http_error_msg \u001b[38;5;241m=\u001b[39m \u001b[38;5;124mu\u001b[39m\u001b[38;5;124m'\u001b[39m\u001b[38;5;132;01m%s\u001b[39;00m\u001b[38;5;124m Server Error: \u001b[39m\u001b[38;5;132;01m%s\u001b[39;00m\u001b[38;5;124m for url: \u001b[39m\u001b[38;5;132;01m%s\u001b[39;00m\u001b[38;5;124m'\u001b[39m \u001b[38;5;241m%\u001b[39m (\u001b[38;5;28mself\u001b[39m\u001b[38;5;241m.\u001b[39mstatus_code, reason, \u001b[38;5;28mself\u001b[39m\u001b[38;5;241m.\u001b[39murl)\n\u001b[1;32m    959\u001b[0m \u001b[38;5;28;01mif\u001b[39;00m http_error_msg:\n\u001b[0;32m--> 960\u001b[0m     \u001b[38;5;28;01mraise\u001b[39;00m HTTPError(http_error_msg, response\u001b[38;5;241m=\u001b[39m\u001b[38;5;28mself\u001b[39m)\n",
      "\u001b[0;31mHTTPError\u001b[0m: 404 Client Error: Not Found for url: http://api.open-notify.org/coisas_aleat%C3%B3ria.json"
     ]
    }
   ],
   "source": [
    "response.raise_for_status()"
   ]
  },
  {
   "cell_type": "markdown",
   "metadata": {},
   "source": [
    "O método `.raise_for_status()` *levanta* um erro toda vez que um código que não seja sucesso é retornado. Sendo assim, podemos utilizar um `try:` e `except:` para tratar este `HTTPError`!"
   ]
  },
  {
   "cell_type": "code",
   "execution_count": 10,
   "metadata": {},
   "outputs": [
    {
     "name": "stdout",
     "output_type": "stream",
     "text": [
      "Falha na comunicação com o servidor:\n",
      " 404 Client Error: Not Found for url: http://api.open-notify.org/coisas_aleat%C3%B3ria.json\n",
      "None\n"
     ]
    }
   ],
   "source": [
    "from requests import HTTPError\n",
    "\n",
    "try:\n",
    "    response = requests.get('http://api.open-notify.org/coisas_aleatória.json')\n",
    "    response.raise_for_status()\n",
    "    resultado = response.json()\n",
    "except HTTPError as e:\n",
    "    print(f'Falha na comunicação com o servidor:\\n {e}')\n",
    "    resultado = None\n",
    "\n",
    "print(resultado)"
   ]
  },
  {
   "cell_type": "markdown",
   "metadata": {},
   "source": [
    "Vamos comparar o resultado do bloco acima utilizando o *endpoint* real da API:"
   ]
  },
  {
   "cell_type": "code",
   "execution_count": 11,
   "metadata": {
    "ExecuteTime": {
     "end_time": "2022-01-18T22:54:56.625471Z",
     "start_time": "2022-01-18T22:54:56.204568Z"
    }
   },
   "outputs": [
    {
     "name": "stdout",
     "output_type": "stream",
     "text": [
      "{'message': 'success', 'timestamp': 1660690453, 'iss_position': {'latitude': '-20.2237', 'longitude': '-76.3621'}}\n"
     ]
    }
   ],
   "source": [
    "try:\n",
    "    response = requests.get('http://api.open-notify.org/iss-now.json')\n",
    "    response.raise_for_status()\n",
    "    resultado = response.json()\n",
    "except HTTPError as e:\n",
    "    print(f'Falha na comunicação com o servidor:\\n {e}')\n",
    "    resultado = None\n",
    "\n",
    "print(resultado)"
   ]
  },
  {
   "cell_type": "code",
   "execution_count": 13,
   "metadata": {},
   "outputs": [
    {
     "data": {
      "text/plain": [
       "{'message': 'success',\n",
       " 'timestamp': 1660690453,\n",
       " 'iss_position': {'latitude': '-20.2237', 'longitude': '-76.3621'}}"
      ]
     },
     "execution_count": 13,
     "metadata": {},
     "output_type": "execute_result"
    }
   ],
   "source": [
    "response.json()"
   ]
  },
  {
   "cell_type": "markdown",
   "metadata": {},
   "source": [
    "## Utilizando APIs I\n",
    "\n",
    "Até agora vimos como podemos acessar, extrair informações e tratar erros de uma API através de métodos e funções fundamentais. Vamos utilizar este conhecimento para construir um `DataFrame` com as posições da ISS."
   ]
  },
  {
   "cell_type": "code",
   "execution_count": 15,
   "metadata": {
    "ExecuteTime": {
     "end_time": "2022-01-18T23:01:12.034525Z",
     "start_time": "2022-01-18T23:01:10.999750Z"
    }
   },
   "outputs": [],
   "source": [
    "from datetime import datetime\n",
    "import pandas as pd\n",
    "\n",
    "response = requests.get('http://api.open-notify.org/iss-now.json')\n",
    "results = response.json()"
   ]
  },
  {
   "cell_type": "markdown",
   "metadata": {},
   "source": [
    "A primeira etapa de qualquer construção envolvendo uma ou mais APIs é a exploração do objeto retornado."
   ]
  },
  {
   "cell_type": "code",
   "execution_count": 16,
   "metadata": {
    "ExecuteTime": {
     "end_time": "2022-01-18T23:01:27.875699Z",
     "start_time": "2022-01-18T23:01:27.861741Z"
    }
   },
   "outputs": [
    {
     "data": {
      "text/plain": [
       "dict"
      ]
     },
     "execution_count": 16,
     "metadata": {},
     "output_type": "execute_result"
    }
   ],
   "source": [
    "type(results)"
   ]
  },
  {
   "cell_type": "markdown",
   "metadata": {},
   "source": [
    "A API da ISS retorna um dicionário: vamos analisar como este dicionário está estruturado:"
   ]
  },
  {
   "cell_type": "code",
   "execution_count": 17,
   "metadata": {},
   "outputs": [
    {
     "data": {
      "text/plain": [
       "dict_keys(['message', 'timestamp', 'iss_position'])"
      ]
     },
     "execution_count": 17,
     "metadata": {},
     "output_type": "execute_result"
    }
   ],
   "source": [
    "results.keys()"
   ]
  },
  {
   "cell_type": "markdown",
   "metadata": {},
   "source": [
    "Vamos investigar como as informações estão estruturadas dentro destas chaves:"
   ]
  },
  {
   "cell_type": "code",
   "execution_count": 18,
   "metadata": {},
   "outputs": [
    {
     "name": "stdout",
     "output_type": "stream",
     "text": [
      "message: <class 'str'>\n",
      "timestamp: <class 'int'>\n",
      "iss_position: <class 'dict'>\n"
     ]
    }
   ],
   "source": [
    "for chave in results.keys():\n",
    "    print(f\"{chave}: {type(results[chave])}\")"
   ]
  },
  {
   "cell_type": "markdown",
   "metadata": {},
   "source": [
    "As chaves `message` e `timestamp` são tipos simples (`str` e `int` respectivamente). Já a chave `iss_position` é outro dicionário:"
   ]
  },
  {
   "cell_type": "code",
   "execution_count": 22,
   "metadata": {},
   "outputs": [
    {
     "data": {
      "text/plain": [
       "-62.1917"
      ]
     },
     "execution_count": 22,
     "metadata": {},
     "output_type": "execute_result"
    }
   ],
   "source": [
    "float(results['iss_position']['longitude'])"
   ]
  },
  {
   "cell_type": "markdown",
   "metadata": {},
   "source": [
    "O resultado desta API é muito simples - temos 3 chaves, sendo que 2 são de interesse para nós:\n",
    "\n",
    "1. `iss_position` contém duas chaves, `latitude` e `longitude`, contendo a posição da ISS;\n",
    "1. `timestamp` contém o **timestamp** associado a esta posição.\n",
    "\n",
    "Primeiro, vamos utilizar a função `fromtimestamp()` do módulo `datetime` para converter nosso `timestamp` em um objeto `DateTime`:"
   ]
  },
  {
   "cell_type": "code",
   "execution_count": 23,
   "metadata": {},
   "outputs": [
    {
     "data": {
      "text/plain": [
       "1660690755"
      ]
     },
     "execution_count": 23,
     "metadata": {},
     "output_type": "execute_result"
    }
   ],
   "source": [
    "results['timestamp']"
   ]
  },
  {
   "cell_type": "code",
   "execution_count": 24,
   "metadata": {
    "ExecuteTime": {
     "end_time": "2022-01-18T23:02:10.364614Z",
     "start_time": "2022-01-18T23:02:10.349655Z"
    }
   },
   "outputs": [
    {
     "name": "stdout",
     "output_type": "stream",
     "text": [
      "2022-08-16 19:59:15\n"
     ]
    }
   ],
   "source": [
    "data_hora = datetime.fromtimestamp(results['timestamp'])\n",
    "print(data_hora)"
   ]
  },
  {
   "cell_type": "markdown",
   "metadata": {},
   "source": [
    "Agora que vimos como transformar este resultado, podemos construir um loop para criar uma tabela com a posição da ISS a cada 10s, por 1 minuto:"
   ]
  },
  {
   "cell_type": "code",
   "execution_count": 33,
   "metadata": {
    "ExecuteTime": {
     "end_time": "2022-01-18T23:07:00.945117Z",
     "start_time": "2022-01-18T23:05:58.291247Z"
    }
   },
   "outputs": [],
   "source": [
    "lat = []\n",
    "long = []\n",
    "data_hora = []\n",
    "\n",
    "for i in range(6):\n",
    "    response = requests.get('http://api.open-notify.org/iss-now.json')\n",
    "    results = response.json()\n",
    "\n",
    "    lat.append(float(results['iss_position']['latitude']))\n",
    "    long.append(float(results['iss_position']['longitude']))\n",
    "    data_hora.append(datetime.fromtimestamp(results['timestamp']))\n",
    "\n",
    "    time.sleep(5)"
   ]
  },
  {
   "cell_type": "code",
   "execution_count": 34,
   "metadata": {},
   "outputs": [
    {
     "data": {
      "text/plain": [
       "[datetime.datetime(2022, 8, 16, 20, 11, 43),\n",
       " datetime.datetime(2022, 8, 16, 20, 11, 49),\n",
       " datetime.datetime(2022, 8, 16, 20, 11, 54),\n",
       " datetime.datetime(2022, 8, 16, 20, 11, 59),\n",
       " datetime.datetime(2022, 8, 16, 20, 12, 5),\n",
       " datetime.datetime(2022, 8, 16, 20, 12, 10)]"
      ]
     },
     "execution_count": 34,
     "metadata": {},
     "output_type": "execute_result"
    }
   ],
   "source": [
    "data_hora"
   ]
  },
  {
   "cell_type": "markdown",
   "metadata": {},
   "source": [
    "Agora vamos construir nosso `DataFrame` a partir das listas que criamos em nosso loop:"
   ]
  },
  {
   "cell_type": "code",
   "execution_count": 27,
   "metadata": {
    "ExecuteTime": {
     "end_time": "2022-01-18T23:08:16.379210Z",
     "start_time": "2022-01-18T23:08:16.363253Z"
    }
   },
   "outputs": [],
   "source": [
    "tb_iss = pd.DataFrame({'lat': lat, 'long':long, 'time':data_hora})"
   ]
  },
  {
   "cell_type": "code",
   "execution_count": 28,
   "metadata": {
    "ExecuteTime": {
     "end_time": "2022-01-18T23:08:17.997854Z",
     "start_time": "2022-01-18T23:08:17.973916Z"
    }
   },
   "outputs": [
    {
     "data": {
      "text/html": [
       "<div>\n",
       "<style scoped>\n",
       "    .dataframe tbody tr th:only-of-type {\n",
       "        vertical-align: middle;\n",
       "    }\n",
       "\n",
       "    .dataframe tbody tr th {\n",
       "        vertical-align: top;\n",
       "    }\n",
       "\n",
       "    .dataframe thead th {\n",
       "        text-align: right;\n",
       "    }\n",
       "</style>\n",
       "<table border=\"1\" class=\"dataframe\">\n",
       "  <thead>\n",
       "    <tr style=\"text-align: right;\">\n",
       "      <th></th>\n",
       "      <th>lat</th>\n",
       "      <th>long</th>\n",
       "      <th>time</th>\n",
       "    </tr>\n",
       "  </thead>\n",
       "  <tbody>\n",
       "    <tr>\n",
       "      <th>0</th>\n",
       "      <td>-43.2498</td>\n",
       "      <td>-47.4471</td>\n",
       "      <td>2022-08-16 20:03:12</td>\n",
       "    </tr>\n",
       "    <tr>\n",
       "      <th>1</th>\n",
       "      <td>-43.5853</td>\n",
       "      <td>-46.7290</td>\n",
       "      <td>2022-08-16 20:03:22</td>\n",
       "    </tr>\n",
       "    <tr>\n",
       "      <th>2</th>\n",
       "      <td>-43.9320</td>\n",
       "      <td>-45.9659</td>\n",
       "      <td>2022-08-16 20:03:32</td>\n",
       "    </tr>\n",
       "    <tr>\n",
       "      <th>3</th>\n",
       "      <td>-44.2730</td>\n",
       "      <td>-45.1935</td>\n",
       "      <td>2022-08-16 20:03:43</td>\n",
       "    </tr>\n",
       "    <tr>\n",
       "      <th>4</th>\n",
       "      <td>-44.6081</td>\n",
       "      <td>-44.4116</td>\n",
       "      <td>2022-08-16 20:03:53</td>\n",
       "    </tr>\n",
       "    <tr>\n",
       "      <th>5</th>\n",
       "      <td>-44.9216</td>\n",
       "      <td>-43.6581</td>\n",
       "      <td>2022-08-16 20:04:03</td>\n",
       "    </tr>\n",
       "  </tbody>\n",
       "</table>\n",
       "</div>"
      ],
      "text/plain": [
       "       lat     long                time\n",
       "0 -43.2498 -47.4471 2022-08-16 20:03:12\n",
       "1 -43.5853 -46.7290 2022-08-16 20:03:22\n",
       "2 -43.9320 -45.9659 2022-08-16 20:03:32\n",
       "3 -44.2730 -45.1935 2022-08-16 20:03:43\n",
       "4 -44.6081 -44.4116 2022-08-16 20:03:53\n",
       "5 -44.9216 -43.6581 2022-08-16 20:04:03"
      ]
     },
     "execution_count": 28,
     "metadata": {},
     "output_type": "execute_result"
    }
   ],
   "source": [
    "tb_iss"
   ]
  },
  {
   "cell_type": "code",
   "execution_count": 29,
   "metadata": {},
   "outputs": [
    {
     "name": "stdout",
     "output_type": "stream",
     "text": [
      "<class 'pandas.core.frame.DataFrame'>\n",
      "RangeIndex: 6 entries, 0 to 5\n",
      "Data columns (total 3 columns):\n",
      " #   Column  Non-Null Count  Dtype         \n",
      "---  ------  --------------  -----         \n",
      " 0   lat     6 non-null      float64       \n",
      " 1   long    6 non-null      float64       \n",
      " 2   time    6 non-null      datetime64[ns]\n",
      "dtypes: datetime64[ns](1), float64(2)\n",
      "memory usage: 272.0 bytes\n"
     ]
    }
   ],
   "source": [
    "tb_iss.info()"
   ]
  },
  {
   "cell_type": "code",
   "execution_count": 30,
   "metadata": {},
   "outputs": [
    {
     "ename": "KeyboardInterrupt",
     "evalue": "",
     "output_type": "error",
     "traceback": [
      "\u001b[0;31m---------------------------------------------------------------------------\u001b[0m",
      "\u001b[0;31mKeyboardInterrupt\u001b[0m                         Traceback (most recent call last)",
      "Input \u001b[0;32mIn [30]\u001b[0m, in \u001b[0;36m<cell line: 6>\u001b[0;34m()\u001b[0m\n\u001b[1;32m     10\u001b[0m long\u001b[38;5;241m.\u001b[39mappend(\u001b[38;5;28mfloat\u001b[39m(results[\u001b[38;5;124m'\u001b[39m\u001b[38;5;124miss_position\u001b[39m\u001b[38;5;124m'\u001b[39m][\u001b[38;5;124m'\u001b[39m\u001b[38;5;124mlongitude\u001b[39m\u001b[38;5;124m'\u001b[39m]))\n\u001b[1;32m     11\u001b[0m data_hora\u001b[38;5;241m.\u001b[39mappend(datetime\u001b[38;5;241m.\u001b[39mfromtimestamp(results[\u001b[38;5;124m'\u001b[39m\u001b[38;5;124mtimestamp\u001b[39m\u001b[38;5;124m'\u001b[39m]))\n\u001b[0;32m---> 13\u001b[0m \u001b[43mtime\u001b[49m\u001b[38;5;241;43m.\u001b[39;49m\u001b[43msleep\u001b[49m\u001b[43m(\u001b[49m\u001b[38;5;241;43m10\u001b[39;49m\u001b[43m)\u001b[49m\n",
      "\u001b[0;31mKeyboardInterrupt\u001b[0m: "
     ]
    }
   ],
   "source": [
    "lat = []\n",
    "long = []\n",
    "data_hora = []\n",
    "i = 6\n",
    "while i >= 0:\n",
    "    response = requests.get('http://api.open-notify.org/iss-now.json')\n",
    "    results = response.json()\n",
    "\n",
    "    lat.append(float(results['iss_position']['latitude']))\n",
    "    long.append(float(results['iss_position']['longitude']))\n",
    "    data_hora.append(datetime.fromtimestamp(results['timestamp']))\n",
    "    i = i - 1\n",
    "    time.sleep(10)"
   ]
  },
  {
   "cell_type": "markdown",
   "metadata": {},
   "source": [
    "## Utilizando APIs II\n",
    "\n",
    "A API da ISS é extremamente rudimentar: ela não possui nem autenticação nem parâmetros, simplesmente retorna a posição atual da ISS. Muitas APIs são mais complexas do que isso, necessitando de autenticação e possibilitando a utilização de parâmetros:\n",
    "\n",
    "1. **Autenticação**: muitas APIs precisam que o seu programa se autentique, ou seja, se identifique. Muitas vezes isso é feito através do site que disponibiliza a API e requer a criação de um usuário;\n",
    "1. **Parâmetros**: parâmetros são informações que passamos para a API utilizadas para determinar que informação será retornada.\n",
    "\n",
    "No próximo exemplo utilizaremos a [WeatherAPI](https://www.weatherapi.com). Esta API retorna informações climáticas para um dado local. Ela é autenticada (através de um *token*) e necessita de uma parametrização (a latitude e longitude do local para o qual queremos extrair as informações).\n",
    "\n",
    "Primeiro vamos criar especificar todos os parâmetros necessários para a consulta à esta API:"
   ]
  },
  {
   "cell_type": "code",
   "execution_count": 36,
   "metadata": {
    "ExecuteTime": {
     "end_time": "2022-01-18T23:28:25.283706Z",
     "start_time": "2022-01-18T23:28:25.182970Z"
    }
   },
   "outputs": [],
   "source": [
    "endpoint = 'http://api.weatherapi.com/v1/current.json'\n",
    "token = 'bfef1b47e3b8462199b191725221801'\n",
    "\n",
    "header = {'key' : token}\n",
    "query = {'q' : '-21.996160,-47.426420'}"
   ]
  },
  {
   "cell_type": "markdown",
   "metadata": {},
   "source": [
    "Utilizamos dois dicionários para especificar tanto a autenticação quanto a parametrização de nosso request:\n",
    "\n",
    "1. `header`: é um dicionário que contém apenas uma chave, `key`, na qual guardamos nosso token identificador;\n",
    "1. `query`: é um dicionário que contém apenas uma chave, `q`, na qual guardamos um string de latitude e longitude.\n",
    "\n",
    "O nome das chaves foi determinado lendo a documentação da API: https://www.weatherapi.com/docs/.\n",
    "\n",
    "Agora vamos utilizar nossos dicionários e a função `request()` para extrair as informações metereológicas da latitude **-21,996160** e longitude **-47,426420**"
   ]
  },
  {
   "cell_type": "code",
   "execution_count": 37,
   "metadata": {},
   "outputs": [],
   "source": [
    "response = requests.get(endpoint, headers=header, params=query)\n",
    "results = response.json()"
   ]
  },
  {
   "cell_type": "markdown",
   "metadata": {},
   "source": [
    "Utilizamos o argumento `headers =` para passar ao `request()` nossos parâmetros de autenticação, e o argumento `params =` para passar os parâmetros de busca."
   ]
  },
  {
   "cell_type": "code",
   "execution_count": 39,
   "metadata": {
    "ExecuteTime": {
     "end_time": "2022-01-18T23:28:27.222423Z",
     "start_time": "2022-01-18T23:28:27.208432Z"
    }
   },
   "outputs": [
    {
     "data": {
      "text/plain": [
       "{'location': {'name': 'Piracununga',\n",
       "  'region': 'Sao Paulo',\n",
       "  'country': 'Brazil',\n",
       "  'lat': -22.0,\n",
       "  'lon': -47.43,\n",
       "  'tz_id': 'America/Sao_Paulo',\n",
       "  'localtime_epoch': 1660692522,\n",
       "  'localtime': '2022-08-16 20:28'},\n",
       " 'current': {'last_updated_epoch': 1660691700,\n",
       "  'last_updated': '2022-08-16 20:15',\n",
       "  'temp_c': 21.0,\n",
       "  'temp_f': 69.8,\n",
       "  'is_day': 0,\n",
       "  'condition': {'text': 'Clear',\n",
       "   'icon': '//cdn.weatherapi.com/weather/64x64/night/113.png',\n",
       "   'code': 1000},\n",
       "  'wind_mph': 3.8,\n",
       "  'wind_kph': 6.1,\n",
       "  'wind_degree': 300,\n",
       "  'wind_dir': 'WNW',\n",
       "  'pressure_mb': 1013.0,\n",
       "  'pressure_in': 29.91,\n",
       "  'precip_mm': 0.0,\n",
       "  'precip_in': 0.0,\n",
       "  'humidity': 56,\n",
       "  'cloud': 0,\n",
       "  'feelslike_c': 21.0,\n",
       "  'feelslike_f': 69.8,\n",
       "  'vis_km': 10.0,\n",
       "  'vis_miles': 6.0,\n",
       "  'uv': 1.0,\n",
       "  'gust_mph': 8.9,\n",
       "  'gust_kph': 14.4}}"
      ]
     },
     "execution_count": 39,
     "metadata": {},
     "output_type": "execute_result"
    }
   ],
   "source": [
    "results"
   ]
  },
  {
   "cell_type": "code",
   "execution_count": 41,
   "metadata": {},
   "outputs": [
    {
     "data": {
      "text/plain": [
       "{'last_updated_epoch': 1660691700,\n",
       " 'last_updated': '2022-08-16 20:15',\n",
       " 'temp_c': 21.0,\n",
       " 'temp_f': 69.8,\n",
       " 'is_day': 0,\n",
       " 'condition': {'text': 'Clear',\n",
       "  'icon': '//cdn.weatherapi.com/weather/64x64/night/113.png',\n",
       "  'code': 1000},\n",
       " 'wind_mph': 3.8,\n",
       " 'wind_kph': 6.1,\n",
       " 'wind_degree': 300,\n",
       " 'wind_dir': 'WNW',\n",
       " 'pressure_mb': 1013.0,\n",
       " 'pressure_in': 29.91,\n",
       " 'precip_mm': 0.0,\n",
       " 'precip_in': 0.0,\n",
       " 'humidity': 56,\n",
       " 'cloud': 0,\n",
       " 'feelslike_c': 21.0,\n",
       " 'feelslike_f': 69.8,\n",
       " 'vis_km': 10.0,\n",
       " 'vis_miles': 6.0,\n",
       " 'uv': 1.0,\n",
       " 'gust_mph': 8.9,\n",
       " 'gust_kph': 14.4}"
      ]
     },
     "execution_count": 41,
     "metadata": {},
     "output_type": "execute_result"
    }
   ],
   "source": [
    "results['current']"
   ]
  },
  {
   "cell_type": "code",
   "execution_count": 42,
   "metadata": {},
   "outputs": [
    {
     "data": {
      "text/plain": [
       "6.1"
      ]
     },
     "execution_count": 42,
     "metadata": {},
     "output_type": "execute_result"
    }
   ],
   "source": [
    "#nome cidade, pais, temperatura, humidade, pressão do ar e velocidade do vento\n",
    "results['location']['name']\n",
    "results['location']['country']\n",
    "results['current']['temp_c']\n",
    "results['current']['humidity']\n",
    "results['current']['pressure_mb']\n",
    "results['current']['wind_kph']"
   ]
  },
  {
   "cell_type": "code",
   "execution_count": 58,
   "metadata": {},
   "outputs": [
    {
     "data": {
      "text/plain": [
       "dict_keys(['name', 'region', 'country', 'lat', 'lon', 'tz_id', 'localtime_epoch', 'localtime'])"
      ]
     },
     "execution_count": 58,
     "metadata": {},
     "output_type": "execute_result"
    }
   ],
   "source": [
    "results['location'].keys()"
   ]
  },
  {
   "cell_type": "markdown",
   "metadata": {},
   "source": [
    "Esta API é muito mais complexa que a API da ISS: não só pela autenticação e parametrização, mas também pela complexidade dos resultados retornados.\n",
    "\n",
    "Primeiro, vamos construir uma aplicação simples cujo objetivo é guardar apenas as informações temperatura, humidade, pressão do ar e velocidade do vento. Para isso precisamos investigar o resultado retornado e determinar quais chaves iremos guardar:"
   ]
  },
  {
   "cell_type": "code",
   "execution_count": 43,
   "metadata": {},
   "outputs": [],
   "source": [
    "# EXERCICIO\n",
    "# Extrair as informações de temperatura, humidade, pressão do ar e velocidade do vento \n",
    "# para a lista de latitudes e longitudes abaixo.\n",
    "lista_latlong = [\n",
    "    '-23.57,-46.69', \n",
    "    '-1.34,-48.60', \n",
    "    '-7.99,-34.87', \n",
    "    '6.51,3.39',\n",
    "    '33.69,-84.44', \n",
    "    '69.00, 33.13'\n",
    "]\n",
    "nome = []\n",
    "pais = []\n",
    "temp = []\n",
    "hum = []\n",
    "press = []\n",
    "vel = []\n",
    "\n",
    "endpoint = 'http://api.weatherapi.com/v1/current.json'\n",
    "token = 'bfef1b47e3b8462199b191725221801'\n",
    "header = {'key' : token}\n",
    "\n",
    "\n",
    "for lat_long in lista_latlong:\n",
    "    query = {'q' : lat_long}\n",
    "    response = requests.get(endpoint, headers=header, params=query)\n",
    "    results = response.json()\n",
    "    \n",
    "    nome.append(results['location']['name'])\n",
    "    pais.append(results['location']['country'])\n",
    "    temp.append(results['current']['temp_c'])\n",
    "    hum.append(results['current']['humidity'])\n",
    "    press.append(results['current']['pressure_mb'])\n",
    "    vel.append(results['current']['wind_kph'])    "
   ]
  },
  {
   "cell_type": "code",
   "execution_count": 46,
   "metadata": {},
   "outputs": [
    {
     "data": {
      "text/plain": [
       "[19.0, 28.0, 26.0, 24.0, 27.8, 18.0]"
      ]
     },
     "execution_count": 46,
     "metadata": {},
     "output_type": "execute_result"
    }
   ],
   "source": [
    "temp"
   ]
  },
  {
   "cell_type": "code",
   "execution_count": 48,
   "metadata": {},
   "outputs": [
    {
     "data": {
      "text/html": [
       "<div>\n",
       "<style scoped>\n",
       "    .dataframe tbody tr th:only-of-type {\n",
       "        vertical-align: middle;\n",
       "    }\n",
       "\n",
       "    .dataframe tbody tr th {\n",
       "        vertical-align: top;\n",
       "    }\n",
       "\n",
       "    .dataframe thead th {\n",
       "        text-align: right;\n",
       "    }\n",
       "</style>\n",
       "<table border=\"1\" class=\"dataframe\">\n",
       "  <thead>\n",
       "    <tr style=\"text-align: right;\">\n",
       "      <th></th>\n",
       "      <th>name</th>\n",
       "      <th>pais</th>\n",
       "      <th>temp</th>\n",
       "      <th>hum</th>\n",
       "      <th>press</th>\n",
       "      <th>vel</th>\n",
       "    </tr>\n",
       "  </thead>\n",
       "  <tbody>\n",
       "    <tr>\n",
       "      <th>0</th>\n",
       "      <td>Lapa</td>\n",
       "      <td>Brazil</td>\n",
       "      <td>19.0</td>\n",
       "      <td>68</td>\n",
       "      <td>1016.0</td>\n",
       "      <td>11.2</td>\n",
       "    </tr>\n",
       "    <tr>\n",
       "      <th>1</th>\n",
       "      <td>Pocao</td>\n",
       "      <td>Brazil</td>\n",
       "      <td>28.0</td>\n",
       "      <td>84</td>\n",
       "      <td>1011.0</td>\n",
       "      <td>13.0</td>\n",
       "    </tr>\n",
       "    <tr>\n",
       "      <th>2</th>\n",
       "      <td>Olinda</td>\n",
       "      <td>Brazil</td>\n",
       "      <td>26.0</td>\n",
       "      <td>65</td>\n",
       "      <td>1015.0</td>\n",
       "      <td>22.0</td>\n",
       "    </tr>\n",
       "    <tr>\n",
       "      <th>3</th>\n",
       "      <td>Tatala</td>\n",
       "      <td>Nigeria</td>\n",
       "      <td>24.0</td>\n",
       "      <td>89</td>\n",
       "      <td>1015.0</td>\n",
       "      <td>3.6</td>\n",
       "    </tr>\n",
       "    <tr>\n",
       "      <th>4</th>\n",
       "      <td>East Point</td>\n",
       "      <td>United States of America</td>\n",
       "      <td>27.8</td>\n",
       "      <td>58</td>\n",
       "      <td>1013.0</td>\n",
       "      <td>9.0</td>\n",
       "    </tr>\n",
       "    <tr>\n",
       "      <th>5</th>\n",
       "      <td>Rosta</td>\n",
       "      <td>Russia</td>\n",
       "      <td>18.0</td>\n",
       "      <td>77</td>\n",
       "      <td>1015.0</td>\n",
       "      <td>4.0</td>\n",
       "    </tr>\n",
       "  </tbody>\n",
       "</table>\n",
       "</div>"
      ],
      "text/plain": [
       "         name                      pais  temp  hum   press   vel\n",
       "0        Lapa                    Brazil  19.0   68  1016.0  11.2\n",
       "1       Pocao                    Brazil  28.0   84  1011.0  13.0\n",
       "2      Olinda                    Brazil  26.0   65  1015.0  22.0\n",
       "3      Tatala                   Nigeria  24.0   89  1015.0   3.6\n",
       "4  East Point  United States of America  27.8   58  1013.0   9.0\n",
       "5       Rosta                    Russia  18.0   77  1015.0   4.0"
      ]
     },
     "execution_count": 48,
     "metadata": {},
     "output_type": "execute_result"
    }
   ],
   "source": [
    "pd.DataFrame({'name' : nome, 'pais' : pais, 'temp' : temp, 'hum' : hum, 'press' : press, 'vel' : vel})"
   ]
  },
  {
   "cell_type": "markdown",
   "metadata": {},
   "source": [
    "### Utilizando `json_normalize()`\n",
    "\n",
    "No exercicio acima, guardamos apenas um sub-conjunto das informações extraídas. No entanto, muitas vezes é mais prático guardar todas as informações para depois filtra-la.\n",
    "\n",
    "Para simplificar este processo podemos utilizar a função `json_normalize()` da biblioteca Pandas."
   ]
  },
  {
   "cell_type": "code",
   "execution_count": 49,
   "metadata": {
    "ExecuteTime": {
     "end_time": "2022-01-18T19:36:43.542242Z",
     "start_time": "2022-01-18T19:36:43.213092Z"
    },
    "scrolled": true
   },
   "outputs": [
    {
     "name": "stdout",
     "output_type": "stream",
     "text": [
      "{'location': {'name': 'Piracununga', 'region': 'Sao Paulo', 'country': 'Brazil', 'lat': -21.99, 'lon': -47.42, 'tz_id': 'America/Sao_Paulo', 'localtime_epoch': 1660693282, 'localtime': '2022-08-16 20:41'}, 'current': {'last_updated_epoch': 1660692600, 'last_updated': '2022-08-16 20:30', 'temp_c': 21.0, 'temp_f': 69.8, 'is_day': 0, 'condition': {'text': 'Clear', 'icon': '//cdn.weatherapi.com/weather/64x64/night/113.png', 'code': 1000}, 'wind_mph': 3.8, 'wind_kph': 6.1, 'wind_degree': 300, 'wind_dir': 'WNW', 'pressure_mb': 1013.0, 'pressure_in': 29.91, 'precip_mm': 0.0, 'precip_in': 0.0, 'humidity': 56, 'cloud': 0, 'feelslike_c': 21.0, 'feelslike_f': 69.8, 'vis_km': 10.0, 'vis_miles': 6.0, 'uv': 1.0, 'gust_mph': 8.9, 'gust_kph': 14.4}}\n"
     ]
    }
   ],
   "source": [
    "# Verificar variável response.json()\n",
    "token = 'bfef1b47e3b8462199b191725221801'\n",
    "\n",
    "endpoint = 'http://api.weatherapi.com/v1/current.json'\n",
    "header = {'key' : token}\n",
    "query = {'q' : '-21.99,-47.42'}\n",
    "\n",
    "\n",
    "response = requests.request('GET', endpoint, headers=header, params=query)\n",
    "results = response.json()\n",
    "print(results)"
   ]
  },
  {
   "cell_type": "markdown",
   "metadata": {},
   "source": [
    "Primeiro vamos construir um loop para percorrer uma lista de latitudes e longitudes e armazenar os dicionários de resultados em uma lista:"
   ]
  },
  {
   "cell_type": "code",
   "execution_count": 50,
   "metadata": {
    "ExecuteTime": {
     "end_time": "2022-01-18T23:35:30.645338Z",
     "start_time": "2022-01-18T23:35:30.628384Z"
    }
   },
   "outputs": [],
   "source": [
    "lista_latlong = [\n",
    "    '-23.57,-46.69', \n",
    "    '-1.34,-48.60', \n",
    "    '-7.99,-34.87', \n",
    "    '6.51,3.39',\n",
    "    '33.69,-84.44', \n",
    "    '69.00, 33.13'\n",
    "]"
   ]
  },
  {
   "cell_type": "code",
   "execution_count": 51,
   "metadata": {
    "ExecuteTime": {
     "end_time": "2022-01-18T23:35:39.757620Z",
     "start_time": "2022-01-18T23:35:37.874455Z"
    }
   },
   "outputs": [],
   "source": [
    "token = 'bfef1b47e3b8462199b191725221801'\n",
    "endpoint = 'http://api.weatherapi.com/v1/current.json'\n",
    "header = {'key' : token}\n",
    "lista_resultados = []\n",
    "\n",
    "for latlong in lista_latlong:\n",
    "    query = {'q' : latlong}\n",
    "    response = requests.request('GET', endpoint, headers=header, params=query)\n",
    "    results = response.json()\n",
    "    lista_resultados.append(results)"
   ]
  },
  {
   "cell_type": "code",
   "execution_count": 56,
   "metadata": {},
   "outputs": [
    {
     "data": {
      "text/plain": [
       "{'location': {'name': 'Rosta',\n",
       "  'region': 'Murmansk',\n",
       "  'country': 'Russia',\n",
       "  'lat': 69.0,\n",
       "  'lon': 33.13,\n",
       "  'tz_id': 'Europe/Moscow',\n",
       "  'localtime_epoch': 1660693307,\n",
       "  'localtime': '2022-08-17 2:41'},\n",
       " 'current': {'last_updated_epoch': 1660692600,\n",
       "  'last_updated': '2022-08-17 02:30',\n",
       "  'temp_c': 18.0,\n",
       "  'temp_f': 64.4,\n",
       "  'is_day': 0,\n",
       "  'condition': {'text': 'Clear',\n",
       "   'icon': '//cdn.weatherapi.com/weather/64x64/night/113.png',\n",
       "   'code': 1000},\n",
       "  'wind_mph': 2.5,\n",
       "  'wind_kph': 4.0,\n",
       "  'wind_degree': 180,\n",
       "  'wind_dir': 'S',\n",
       "  'pressure_mb': 1015.0,\n",
       "  'pressure_in': 29.97,\n",
       "  'precip_mm': 0.0,\n",
       "  'precip_in': 0.0,\n",
       "  'humidity': 77,\n",
       "  'cloud': 0,\n",
       "  'feelslike_c': 18.0,\n",
       "  'feelslike_f': 64.4,\n",
       "  'vis_km': 10.0,\n",
       "  'vis_miles': 6.0,\n",
       "  'uv': 1.0,\n",
       "  'gust_mph': 17.4,\n",
       "  'gust_kph': 28.1}}"
      ]
     },
     "execution_count": 56,
     "metadata": {},
     "output_type": "execute_result"
    }
   ],
   "source": [
    "results"
   ]
  },
  {
   "cell_type": "code",
   "execution_count": 54,
   "metadata": {},
   "outputs": [
    {
     "data": {
      "text/plain": [
       "[dict, dict, dict, dict, dict, dict]"
      ]
     },
     "execution_count": 54,
     "metadata": {},
     "output_type": "execute_result"
    }
   ],
   "source": [
    "[type(resultado) for resultado in lista_resultados]"
   ]
  },
  {
   "cell_type": "markdown",
   "metadata": {},
   "source": [
    "A variável `lista_resultados` é uma `list` de `dicts`: cada elemento desta lista contém as informações de uma localização específica em um dicionário.\n",
    "\n",
    "Agora, vamos utilizar a função `json_normalize()` da biblioteca `Pandas` para transformar esta lista em um `DataFrame`, onde cada linha será correspondente à cada elemento da lista:"
   ]
  },
  {
   "cell_type": "code",
   "execution_count": 55,
   "metadata": {
    "ExecuteTime": {
     "end_time": "2022-01-18T23:43:31.249978Z",
     "start_time": "2022-01-18T23:43:31.237013Z"
    }
   },
   "outputs": [
    {
     "data": {
      "text/html": [
       "<div>\n",
       "<style scoped>\n",
       "    .dataframe tbody tr th:only-of-type {\n",
       "        vertical-align: middle;\n",
       "    }\n",
       "\n",
       "    .dataframe tbody tr th {\n",
       "        vertical-align: top;\n",
       "    }\n",
       "\n",
       "    .dataframe thead th {\n",
       "        text-align: right;\n",
       "    }\n",
       "</style>\n",
       "<table border=\"1\" class=\"dataframe\">\n",
       "  <thead>\n",
       "    <tr style=\"text-align: right;\">\n",
       "      <th></th>\n",
       "      <th>location.name</th>\n",
       "      <th>location.region</th>\n",
       "      <th>location.country</th>\n",
       "      <th>location.lat</th>\n",
       "      <th>location.lon</th>\n",
       "      <th>location.tz_id</th>\n",
       "      <th>location.localtime_epoch</th>\n",
       "      <th>location.localtime</th>\n",
       "      <th>current.last_updated_epoch</th>\n",
       "      <th>current.last_updated</th>\n",
       "      <th>...</th>\n",
       "      <th>current.precip_in</th>\n",
       "      <th>current.humidity</th>\n",
       "      <th>current.cloud</th>\n",
       "      <th>current.feelslike_c</th>\n",
       "      <th>current.feelslike_f</th>\n",
       "      <th>current.vis_km</th>\n",
       "      <th>current.vis_miles</th>\n",
       "      <th>current.uv</th>\n",
       "      <th>current.gust_mph</th>\n",
       "      <th>current.gust_kph</th>\n",
       "    </tr>\n",
       "  </thead>\n",
       "  <tbody>\n",
       "    <tr>\n",
       "      <th>0</th>\n",
       "      <td>Lapa</td>\n",
       "      <td>Sao Paulo</td>\n",
       "      <td>Brazil</td>\n",
       "      <td>-23.57</td>\n",
       "      <td>-46.69</td>\n",
       "      <td>America/Sao_Paulo</td>\n",
       "      <td>1660693305</td>\n",
       "      <td>2022-08-16 20:41</td>\n",
       "      <td>1660692600</td>\n",
       "      <td>2022-08-16 20:30</td>\n",
       "      <td>...</td>\n",
       "      <td>0.0</td>\n",
       "      <td>68</td>\n",
       "      <td>0</td>\n",
       "      <td>19.0</td>\n",
       "      <td>66.2</td>\n",
       "      <td>10.0</td>\n",
       "      <td>6.0</td>\n",
       "      <td>1.0</td>\n",
       "      <td>1.8</td>\n",
       "      <td>2.9</td>\n",
       "    </tr>\n",
       "    <tr>\n",
       "      <th>1</th>\n",
       "      <td>Pocao</td>\n",
       "      <td>Para</td>\n",
       "      <td>Brazil</td>\n",
       "      <td>-1.34</td>\n",
       "      <td>-48.60</td>\n",
       "      <td>America/Belem</td>\n",
       "      <td>1660693305</td>\n",
       "      <td>2022-08-16 20:41</td>\n",
       "      <td>1660692600</td>\n",
       "      <td>2022-08-16 20:30</td>\n",
       "      <td>...</td>\n",
       "      <td>0.0</td>\n",
       "      <td>84</td>\n",
       "      <td>0</td>\n",
       "      <td>30.9</td>\n",
       "      <td>87.5</td>\n",
       "      <td>10.0</td>\n",
       "      <td>6.0</td>\n",
       "      <td>1.0</td>\n",
       "      <td>10.7</td>\n",
       "      <td>17.3</td>\n",
       "    </tr>\n",
       "    <tr>\n",
       "      <th>2</th>\n",
       "      <td>Olinda</td>\n",
       "      <td>Pernambuco</td>\n",
       "      <td>Brazil</td>\n",
       "      <td>-7.99</td>\n",
       "      <td>-34.87</td>\n",
       "      <td>America/Recife</td>\n",
       "      <td>1660693305</td>\n",
       "      <td>2022-08-16 20:41</td>\n",
       "      <td>1660692600</td>\n",
       "      <td>2022-08-16 20:30</td>\n",
       "      <td>...</td>\n",
       "      <td>0.0</td>\n",
       "      <td>65</td>\n",
       "      <td>25</td>\n",
       "      <td>27.9</td>\n",
       "      <td>82.1</td>\n",
       "      <td>10.0</td>\n",
       "      <td>6.0</td>\n",
       "      <td>1.0</td>\n",
       "      <td>15.4</td>\n",
       "      <td>24.8</td>\n",
       "    </tr>\n",
       "    <tr>\n",
       "      <th>3</th>\n",
       "      <td>Tatala</td>\n",
       "      <td>Lagos</td>\n",
       "      <td>Nigeria</td>\n",
       "      <td>6.51</td>\n",
       "      <td>3.39</td>\n",
       "      <td>Africa/Lagos</td>\n",
       "      <td>1660693306</td>\n",
       "      <td>2022-08-17 0:41</td>\n",
       "      <td>1660692600</td>\n",
       "      <td>2022-08-17 00:30</td>\n",
       "      <td>...</td>\n",
       "      <td>0.0</td>\n",
       "      <td>89</td>\n",
       "      <td>25</td>\n",
       "      <td>25.9</td>\n",
       "      <td>78.6</td>\n",
       "      <td>10.0</td>\n",
       "      <td>6.0</td>\n",
       "      <td>1.0</td>\n",
       "      <td>7.8</td>\n",
       "      <td>12.6</td>\n",
       "    </tr>\n",
       "    <tr>\n",
       "      <th>4</th>\n",
       "      <td>East Point</td>\n",
       "      <td>Georgia</td>\n",
       "      <td>United States of America</td>\n",
       "      <td>33.69</td>\n",
       "      <td>-84.44</td>\n",
       "      <td>America/New_York</td>\n",
       "      <td>1660693306</td>\n",
       "      <td>2022-08-16 19:41</td>\n",
       "      <td>1660692600</td>\n",
       "      <td>2022-08-16 19:30</td>\n",
       "      <td>...</td>\n",
       "      <td>0.0</td>\n",
       "      <td>58</td>\n",
       "      <td>0</td>\n",
       "      <td>27.2</td>\n",
       "      <td>80.9</td>\n",
       "      <td>16.0</td>\n",
       "      <td>9.0</td>\n",
       "      <td>8.0</td>\n",
       "      <td>10.3</td>\n",
       "      <td>16.6</td>\n",
       "    </tr>\n",
       "    <tr>\n",
       "      <th>5</th>\n",
       "      <td>Rosta</td>\n",
       "      <td>Murmansk</td>\n",
       "      <td>Russia</td>\n",
       "      <td>69.00</td>\n",
       "      <td>33.13</td>\n",
       "      <td>Europe/Moscow</td>\n",
       "      <td>1660693307</td>\n",
       "      <td>2022-08-17 2:41</td>\n",
       "      <td>1660692600</td>\n",
       "      <td>2022-08-17 02:30</td>\n",
       "      <td>...</td>\n",
       "      <td>0.0</td>\n",
       "      <td>77</td>\n",
       "      <td>0</td>\n",
       "      <td>18.0</td>\n",
       "      <td>64.4</td>\n",
       "      <td>10.0</td>\n",
       "      <td>6.0</td>\n",
       "      <td>1.0</td>\n",
       "      <td>17.4</td>\n",
       "      <td>28.1</td>\n",
       "    </tr>\n",
       "  </tbody>\n",
       "</table>\n",
       "<p>6 rows × 33 columns</p>\n",
       "</div>"
      ],
      "text/plain": [
       "  location.name location.region          location.country  location.lat  \\\n",
       "0          Lapa       Sao Paulo                    Brazil        -23.57   \n",
       "1         Pocao            Para                    Brazil         -1.34   \n",
       "2        Olinda      Pernambuco                    Brazil         -7.99   \n",
       "3        Tatala           Lagos                   Nigeria          6.51   \n",
       "4    East Point         Georgia  United States of America         33.69   \n",
       "5         Rosta        Murmansk                    Russia         69.00   \n",
       "\n",
       "   location.lon     location.tz_id  location.localtime_epoch  \\\n",
       "0        -46.69  America/Sao_Paulo                1660693305   \n",
       "1        -48.60      America/Belem                1660693305   \n",
       "2        -34.87     America/Recife                1660693305   \n",
       "3          3.39       Africa/Lagos                1660693306   \n",
       "4        -84.44   America/New_York                1660693306   \n",
       "5         33.13      Europe/Moscow                1660693307   \n",
       "\n",
       "  location.localtime  current.last_updated_epoch current.last_updated  ...  \\\n",
       "0   2022-08-16 20:41                  1660692600     2022-08-16 20:30  ...   \n",
       "1   2022-08-16 20:41                  1660692600     2022-08-16 20:30  ...   \n",
       "2   2022-08-16 20:41                  1660692600     2022-08-16 20:30  ...   \n",
       "3    2022-08-17 0:41                  1660692600     2022-08-17 00:30  ...   \n",
       "4   2022-08-16 19:41                  1660692600     2022-08-16 19:30  ...   \n",
       "5    2022-08-17 2:41                  1660692600     2022-08-17 02:30  ...   \n",
       "\n",
       "   current.precip_in  current.humidity  current.cloud current.feelslike_c  \\\n",
       "0                0.0                68              0                19.0   \n",
       "1                0.0                84              0                30.9   \n",
       "2                0.0                65             25                27.9   \n",
       "3                0.0                89             25                25.9   \n",
       "4                0.0                58              0                27.2   \n",
       "5                0.0                77              0                18.0   \n",
       "\n",
       "  current.feelslike_f  current.vis_km  current.vis_miles  current.uv  \\\n",
       "0                66.2            10.0                6.0         1.0   \n",
       "1                87.5            10.0                6.0         1.0   \n",
       "2                82.1            10.0                6.0         1.0   \n",
       "3                78.6            10.0                6.0         1.0   \n",
       "4                80.9            16.0                9.0         8.0   \n",
       "5                64.4            10.0                6.0         1.0   \n",
       "\n",
       "   current.gust_mph current.gust_kph  \n",
       "0               1.8              2.9  \n",
       "1              10.7             17.3  \n",
       "2              15.4             24.8  \n",
       "3               7.8             12.6  \n",
       "4              10.3             16.6  \n",
       "5              17.4             28.1  \n",
       "\n",
       "[6 rows x 33 columns]"
      ]
     },
     "execution_count": 55,
     "metadata": {},
     "output_type": "execute_result"
    }
   ],
   "source": [
    "tb_weather = pd.json_normalize(lista_resultados)\n",
    "tb_weather\n"
   ]
  },
  {
   "cell_type": "markdown",
   "metadata": {},
   "source": [
    "A função transformou os dicionários hierarquicos em colunas individuais: para evitar a colisão de nomes de colunas, utilizou-se a notação de `.`: por exemplo, o sub-dicionário `location`, que contém campos relativos à localização, foi armazenado nas colunas `location.name`, `location.region`, etc..."
   ]
  },
  {
   "cell_type": "code",
   "execution_count": null,
   "metadata": {
    "ExecuteTime": {
     "end_time": "2022-01-18T23:43:59.578999Z",
     "start_time": "2022-01-18T23:43:59.563041Z"
    }
   },
   "outputs": [],
   "source": [
    "tb_weather.columns"
   ]
  },
  {
   "cell_type": "code",
   "execution_count": null,
   "metadata": {
    "ExecuteTime": {
     "end_time": "2022-01-18T23:44:02.513231Z",
     "start_time": "2022-01-18T23:44:02.421477Z"
    }
   },
   "outputs": [],
   "source": [
    "tb_weather.describe()"
   ]
  },
  {
   "cell_type": "markdown",
   "metadata": {},
   "source": [
    "# Encapsulando APIs \n",
    "\n",
    "Muitas vezes as funções de uma API são encapsuladas em um **wrapper**: uma classe que contém todo o código necessário para autenticar e parametrizar queries em uma dada API. Vamos construir um **wrapper** para a nossa tarefa acima."
   ]
  },
  {
   "cell_type": "code",
   "execution_count": 60,
   "metadata": {},
   "outputs": [],
   "source": [
    "class WeatherAPI:\n",
    "    '''\n",
    "    Wrapper para a API https://www.weatherapi.com/docs/\n",
    "    '''\n",
    "    \n",
    "    def __init__(self, token):\n",
    "        '''\n",
    "        Inicializa o wrapper.\n",
    "        token Str: Token de identificação do usuário da API\n",
    "        '''\n",
    "        self.header = {'key' : token}\n",
    "\n",
    "        \n",
    "    def query_latlong(self, lat, long):\n",
    "        '''\n",
    "        Busca dados meterológicos atuais para uma localização específica\n",
    "        lat Float: latitude da localização\n",
    "        long Float: longitude da localização\n",
    "        '''\n",
    "        query = {'q' : f\"{lat},{long}\"}\n",
    "        try:\n",
    "            response = requests.get(endpoint, headers=self.header, params=query)\n",
    "            response.raise_for_status()\n",
    "            return response.json()\n",
    "        except HTTPError as e:\n",
    "            print(e)\n",
    "            return None\n",
    "    "
   ]
  },
  {
   "cell_type": "code",
   "execution_count": 61,
   "metadata": {},
   "outputs": [],
   "source": [
    "minha_api = WeatherAPI('bfef1b47e3b8462199b191725221801')"
   ]
  },
  {
   "cell_type": "code",
   "execution_count": 63,
   "metadata": {},
   "outputs": [
    {
     "data": {
      "text/plain": [
       "{'location': {'name': 'Odilon Guimaraes',\n",
       "  'region': 'Minas Gerais',\n",
       "  'country': 'Brazil',\n",
       "  'lat': -15.0,\n",
       "  'lon': -47.0,\n",
       "  'tz_id': 'America/Sao_Paulo',\n",
       "  'localtime_epoch': 1660694077,\n",
       "  'localtime': '2022-08-16 20:54'},\n",
       " 'current': {'last_updated_epoch': 1660693500,\n",
       "  'last_updated': '2022-08-16 20:45',\n",
       "  'temp_c': 24.1,\n",
       "  'temp_f': 75.4,\n",
       "  'is_day': 0,\n",
       "  'condition': {'text': 'Clear',\n",
       "   'icon': '//cdn.weatherapi.com/weather/64x64/night/113.png',\n",
       "   'code': 1000},\n",
       "  'wind_mph': 2.7,\n",
       "  'wind_kph': 4.3,\n",
       "  'wind_degree': 179,\n",
       "  'wind_dir': 'S',\n",
       "  'pressure_mb': 1014.0,\n",
       "  'pressure_in': 29.93,\n",
       "  'precip_mm': 0.0,\n",
       "  'precip_in': 0.0,\n",
       "  'humidity': 32,\n",
       "  'cloud': 11,\n",
       "  'feelslike_c': 24.4,\n",
       "  'feelslike_f': 75.9,\n",
       "  'vis_km': 10.0,\n",
       "  'vis_miles': 6.0,\n",
       "  'uv': 1.0,\n",
       "  'gust_mph': 5.6,\n",
       "  'gust_kph': 9.0}}"
      ]
     },
     "execution_count": 63,
     "metadata": {},
     "output_type": "execute_result"
    }
   ],
   "source": [
    "minha_api.query_latlong(-15, -47)"
   ]
  },
  {
   "cell_type": "markdown",
   "metadata": {},
   "source": [
    "# Voltamos 21h11"
   ]
  },
  {
   "cell_type": "code",
   "execution_count": null,
   "metadata": {},
   "outputs": [],
   "source": []
  }
 ],
 "metadata": {
  "hide_input": false,
  "kernelspec": {
   "display_name": "Python 3 (ipykernel)",
   "language": "python",
   "name": "python3"
  },
  "language_info": {
   "codemirror_mode": {
    "name": "ipython",
    "version": 3
   },
   "file_extension": ".py",
   "mimetype": "text/x-python",
   "name": "python",
   "nbconvert_exporter": "python",
   "pygments_lexer": "ipython3",
   "version": "3.9.11"
  },
  "toc": {
   "base_numbering": 1,
   "nav_menu": {},
   "number_sections": true,
   "sideBar": true,
   "skip_h1_title": false,
   "title_cell": "Table of Contents",
   "title_sidebar": "Contents",
   "toc_cell": false,
   "toc_position": {},
   "toc_section_display": true,
   "toc_window_display": false
  },
  "varInspector": {
   "cols": {
    "lenName": 16,
    "lenType": 16,
    "lenVar": 40
   },
   "kernels_config": {
    "python": {
     "delete_cmd_postfix": "",
     "delete_cmd_prefix": "del ",
     "library": "var_list.py",
     "varRefreshCmd": "print(var_dic_list())"
    },
    "r": {
     "delete_cmd_postfix": ") ",
     "delete_cmd_prefix": "rm(",
     "library": "var_list.r",
     "varRefreshCmd": "cat(var_dic_list()) "
    }
   },
   "types_to_exclude": [
    "module",
    "function",
    "builtin_function_or_method",
    "instance",
    "_Feature"
   ],
   "window_display": false
  },
  "vscode": {
   "interpreter": {
    "hash": "014f4a4a5af8f0104b12c029e500f4146d6d785e8cf714d2a35b7a9514230cd3"
   }
  }
 },
 "nbformat": 4,
 "nbformat_minor": 4
}
